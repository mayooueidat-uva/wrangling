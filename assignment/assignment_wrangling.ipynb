{
 "cells": [
  {
   "cell_type": "markdown",
   "id": "13ad028b-72b7-43ed-aa78-96fd4e518040",
   "metadata": {
    "id": "13ad028b-72b7-43ed-aa78-96fd4e518040"
   },
   "source": [
    "# Assignment: Data Wrangling\n",
    "### `! git clone https://github.com/ds4e/wrangling`\n",
    "### Do Q1 and Q2, and either Q3 or Q4, for a total of 3 questions."
   ]
  },
  {
   "cell_type": "code",
   "execution_count": 1,
   "id": "53a4b2bc-0458-4e12-9ed3-ebbe05bb1b73",
   "metadata": {},
   "outputs": [
    {
     "name": "stderr",
     "output_type": "stream",
     "text": [
      "/usr/lib/python3/dist-packages/pytz/__init__.py:31: SyntaxWarning: invalid escape sequence '\\s'\n",
      "  match = re.match(\"^#\\s*version\\s*([0-9a-z]*)\\s*$\", line)\n"
     ]
    }
   ],
   "source": [
    "import pandas as pd "
   ]
  },
  {
   "cell_type": "markdown",
   "id": "da879ea7-8aac-48a3-b6c2-daea56d2e072",
   "metadata": {
    "id": "da879ea7-8aac-48a3-b6c2-daea56d2e072"
   },
   "source": [
    "**Q1.** This question provides some practice cleaning variables which have common problems.\n",
    "1. ~~Numeric variable: For `./data/airbnb_hw.csv`, clean the `Price` variable as well as you can, and explain the choices you make. How many missing values do you end up with? (Hint: What happens to the formatting when a price goes over 999 dollars, say from 675 to 1,112?)~~\n",
    "2. ~~Categorical variable: For the Minnesota police use of for data, `./data/mn_police_use_of_force.csv`, clean the `subject_injury` variable, handling the NA's; this gives a value `Yes` when a person was injured by police, and `No` when no injury occurred. What proportion of the values are missing? Is this a concern? Cross-tabulate your cleaned `subject_injury` variable with the `force_type` variable. Are there any patterns regarding when the data are missing?~~\n",
    "3. ~~Dummy variable: For the pretrial data covered in the lecture, clean the `WhetherDefendantWasReleasedPretrial` variable as well as you can, and, in particular, replace missing values with `np.nan`.~~\n",
    "4. Missing values, not at random: For the pretrial data covered in the lecture, clean the `ImposedSentenceAllChargeInContactEvent` variable as well as you can, and explain the choices you make. (Hint: Look at the `SentenceTypeAllChargesAtConvictionInContactEvent` variable.)"
   ]
  },
  {
   "cell_type": "markdown",
   "id": "4a7d9a70-cc78-4d0d-9c5c-5a00c91f672a",
   "metadata": {},
   "source": [
    "### Question 1, Part 1 "
   ]
  },
  {
   "cell_type": "code",
   "execution_count": 2,
   "id": "fba041a5-b7d7-449f-898b-290106d33f97",
   "metadata": {},
   "outputs": [],
   "source": [
    "# !pip install matplotlib"
   ]
  },
  {
   "cell_type": "code",
   "execution_count": 3,
   "id": "5bdf2ec1-5121-4f05-af53-fbef27355b84",
   "metadata": {},
   "outputs": [],
   "source": [
    "# importing packages that i, in my amateur mind, think might be helpful? \n",
    "import numpy as np\n",
    "import pandas as pd \n",
    "import matplotlib.pyplot as plt"
   ]
  },
  {
   "cell_type": "code",
   "execution_count": 4,
   "id": "401b1a29-2869-4106-a762-2404cb21b763",
   "metadata": {},
   "outputs": [
    {
     "data": {
      "text/html": [
       "<div>\n",
       "<style scoped>\n",
       "    .dataframe tbody tr th:only-of-type {\n",
       "        vertical-align: middle;\n",
       "    }\n",
       "\n",
       "    .dataframe tbody tr th {\n",
       "        vertical-align: top;\n",
       "    }\n",
       "\n",
       "    .dataframe thead th {\n",
       "        text-align: right;\n",
       "    }\n",
       "</style>\n",
       "<table border=\"1\" class=\"dataframe\">\n",
       "  <thead>\n",
       "    <tr style=\"text-align: right;\">\n",
       "      <th></th>\n",
       "      <th>Host Id</th>\n",
       "      <th>Host Since</th>\n",
       "      <th>Name</th>\n",
       "      <th>Neighbourhood</th>\n",
       "      <th>Property Type</th>\n",
       "      <th>Review Scores Rating (bin)</th>\n",
       "      <th>Room Type</th>\n",
       "      <th>Zipcode</th>\n",
       "      <th>Beds</th>\n",
       "      <th>Number of Records</th>\n",
       "      <th>Number Of Reviews</th>\n",
       "      <th>Price</th>\n",
       "      <th>Review Scores Rating</th>\n",
       "    </tr>\n",
       "  </thead>\n",
       "  <tbody>\n",
       "    <tr>\n",
       "      <th>0</th>\n",
       "      <td>5162530</td>\n",
       "      <td>NaN</td>\n",
       "      <td>1 Bedroom in Prime Williamsburg</td>\n",
       "      <td>Brooklyn</td>\n",
       "      <td>Apartment</td>\n",
       "      <td>NaN</td>\n",
       "      <td>Entire home/apt</td>\n",
       "      <td>11249.0</td>\n",
       "      <td>1.0</td>\n",
       "      <td>1</td>\n",
       "      <td>0</td>\n",
       "      <td>145</td>\n",
       "      <td>NaN</td>\n",
       "    </tr>\n",
       "    <tr>\n",
       "      <th>1</th>\n",
       "      <td>33134899</td>\n",
       "      <td>NaN</td>\n",
       "      <td>Sunny, Private room in Bushwick</td>\n",
       "      <td>Brooklyn</td>\n",
       "      <td>Apartment</td>\n",
       "      <td>NaN</td>\n",
       "      <td>Private room</td>\n",
       "      <td>11206.0</td>\n",
       "      <td>1.0</td>\n",
       "      <td>1</td>\n",
       "      <td>1</td>\n",
       "      <td>37</td>\n",
       "      <td>NaN</td>\n",
       "    </tr>\n",
       "    <tr>\n",
       "      <th>2</th>\n",
       "      <td>39608626</td>\n",
       "      <td>NaN</td>\n",
       "      <td>Sunny Room in Harlem</td>\n",
       "      <td>Manhattan</td>\n",
       "      <td>Apartment</td>\n",
       "      <td>NaN</td>\n",
       "      <td>Private room</td>\n",
       "      <td>10032.0</td>\n",
       "      <td>1.0</td>\n",
       "      <td>1</td>\n",
       "      <td>1</td>\n",
       "      <td>28</td>\n",
       "      <td>NaN</td>\n",
       "    </tr>\n",
       "    <tr>\n",
       "      <th>3</th>\n",
       "      <td>500</td>\n",
       "      <td>6/26/2008</td>\n",
       "      <td>Gorgeous 1 BR with Private Balcony</td>\n",
       "      <td>Manhattan</td>\n",
       "      <td>Apartment</td>\n",
       "      <td>NaN</td>\n",
       "      <td>Entire home/apt</td>\n",
       "      <td>10024.0</td>\n",
       "      <td>3.0</td>\n",
       "      <td>1</td>\n",
       "      <td>0</td>\n",
       "      <td>199</td>\n",
       "      <td>NaN</td>\n",
       "    </tr>\n",
       "    <tr>\n",
       "      <th>4</th>\n",
       "      <td>500</td>\n",
       "      <td>6/26/2008</td>\n",
       "      <td>Trendy Times Square Loft</td>\n",
       "      <td>Manhattan</td>\n",
       "      <td>Apartment</td>\n",
       "      <td>95.0</td>\n",
       "      <td>Private room</td>\n",
       "      <td>10036.0</td>\n",
       "      <td>3.0</td>\n",
       "      <td>1</td>\n",
       "      <td>39</td>\n",
       "      <td>549</td>\n",
       "      <td>96.0</td>\n",
       "    </tr>\n",
       "    <tr>\n",
       "      <th>...</th>\n",
       "      <td>...</td>\n",
       "      <td>...</td>\n",
       "      <td>...</td>\n",
       "      <td>...</td>\n",
       "      <td>...</td>\n",
       "      <td>...</td>\n",
       "      <td>...</td>\n",
       "      <td>...</td>\n",
       "      <td>...</td>\n",
       "      <td>...</td>\n",
       "      <td>...</td>\n",
       "      <td>...</td>\n",
       "      <td>...</td>\n",
       "    </tr>\n",
       "    <tr>\n",
       "      <th>30473</th>\n",
       "      <td>43022976</td>\n",
       "      <td>8/31/2015</td>\n",
       "      <td>10 Mins to Time Square/two floors</td>\n",
       "      <td>Queens</td>\n",
       "      <td>Apartment</td>\n",
       "      <td>NaN</td>\n",
       "      <td>Entire home/apt</td>\n",
       "      <td>11101.0</td>\n",
       "      <td>5.0</td>\n",
       "      <td>1</td>\n",
       "      <td>0</td>\n",
       "      <td>300</td>\n",
       "      <td>NaN</td>\n",
       "    </tr>\n",
       "    <tr>\n",
       "      <th>30474</th>\n",
       "      <td>42993382</td>\n",
       "      <td>8/31/2015</td>\n",
       "      <td>1BR ocean view &amp; F,Q train st</td>\n",
       "      <td>Brooklyn</td>\n",
       "      <td>Apartment</td>\n",
       "      <td>NaN</td>\n",
       "      <td>Private room</td>\n",
       "      <td>11224.0</td>\n",
       "      <td>2.0</td>\n",
       "      <td>1</td>\n",
       "      <td>0</td>\n",
       "      <td>125</td>\n",
       "      <td>NaN</td>\n",
       "    </tr>\n",
       "    <tr>\n",
       "      <th>30475</th>\n",
       "      <td>43033067</td>\n",
       "      <td>8/31/2015</td>\n",
       "      <td>Amazing Private Room</td>\n",
       "      <td>Brooklyn</td>\n",
       "      <td>Other</td>\n",
       "      <td>NaN</td>\n",
       "      <td>Private room</td>\n",
       "      <td>11206.0</td>\n",
       "      <td>1.0</td>\n",
       "      <td>1</td>\n",
       "      <td>0</td>\n",
       "      <td>80</td>\n",
       "      <td>NaN</td>\n",
       "    </tr>\n",
       "    <tr>\n",
       "      <th>30476</th>\n",
       "      <td>43000991</td>\n",
       "      <td>8/31/2015</td>\n",
       "      <td>Charming private female room: UWS</td>\n",
       "      <td>Manhattan</td>\n",
       "      <td>Apartment</td>\n",
       "      <td>NaN</td>\n",
       "      <td>Private room</td>\n",
       "      <td>10025.0</td>\n",
       "      <td>1.0</td>\n",
       "      <td>1</td>\n",
       "      <td>0</td>\n",
       "      <td>35</td>\n",
       "      <td>NaN</td>\n",
       "    </tr>\n",
       "    <tr>\n",
       "      <th>30477</th>\n",
       "      <td>42999189</td>\n",
       "      <td>8/31/2015</td>\n",
       "      <td>Huge Beautiful Bedroom - Astoria</td>\n",
       "      <td>Queens</td>\n",
       "      <td>House</td>\n",
       "      <td>NaN</td>\n",
       "      <td>Private room</td>\n",
       "      <td>11105.0</td>\n",
       "      <td>1.0</td>\n",
       "      <td>1</td>\n",
       "      <td>0</td>\n",
       "      <td>80</td>\n",
       "      <td>NaN</td>\n",
       "    </tr>\n",
       "  </tbody>\n",
       "</table>\n",
       "<p>30478 rows × 13 columns</p>\n",
       "</div>"
      ],
      "text/plain": [
       "        Host Id Host Since                                Name Neighbourhood   \\\n",
       "0       5162530        NaN     1 Bedroom in Prime Williamsburg       Brooklyn   \n",
       "1      33134899        NaN     Sunny, Private room in Bushwick       Brooklyn   \n",
       "2      39608626        NaN                Sunny Room in Harlem      Manhattan   \n",
       "3           500  6/26/2008  Gorgeous 1 BR with Private Balcony      Manhattan   \n",
       "4           500  6/26/2008            Trendy Times Square Loft      Manhattan   \n",
       "...         ...        ...                                 ...            ...   \n",
       "30473  43022976  8/31/2015   10 Mins to Time Square/two floors         Queens   \n",
       "30474  42993382  8/31/2015       1BR ocean view & F,Q train st       Brooklyn   \n",
       "30475  43033067  8/31/2015                Amazing Private Room       Brooklyn   \n",
       "30476  43000991  8/31/2015   Charming private female room: UWS      Manhattan   \n",
       "30477  42999189  8/31/2015    Huge Beautiful Bedroom - Astoria         Queens   \n",
       "\n",
       "      Property Type  Review Scores Rating (bin)        Room Type  Zipcode  \\\n",
       "0         Apartment                         NaN  Entire home/apt  11249.0   \n",
       "1         Apartment                         NaN     Private room  11206.0   \n",
       "2         Apartment                         NaN     Private room  10032.0   \n",
       "3         Apartment                         NaN  Entire home/apt  10024.0   \n",
       "4         Apartment                        95.0     Private room  10036.0   \n",
       "...             ...                         ...              ...      ...   \n",
       "30473     Apartment                         NaN  Entire home/apt  11101.0   \n",
       "30474     Apartment                         NaN     Private room  11224.0   \n",
       "30475         Other                         NaN     Private room  11206.0   \n",
       "30476     Apartment                         NaN     Private room  10025.0   \n",
       "30477         House                         NaN     Private room  11105.0   \n",
       "\n",
       "       Beds  Number of Records  Number Of Reviews Price  Review Scores Rating  \n",
       "0       1.0                  1                  0   145                   NaN  \n",
       "1       1.0                  1                  1    37                   NaN  \n",
       "2       1.0                  1                  1    28                   NaN  \n",
       "3       3.0                  1                  0   199                   NaN  \n",
       "4       3.0                  1                 39   549                  96.0  \n",
       "...     ...                ...                ...   ...                   ...  \n",
       "30473   5.0                  1                  0   300                   NaN  \n",
       "30474   2.0                  1                  0   125                   NaN  \n",
       "30475   1.0                  1                  0    80                   NaN  \n",
       "30476   1.0                  1                  0    35                   NaN  \n",
       "30477   1.0                  1                  0    80                   NaN  \n",
       "\n",
       "[30478 rows x 13 columns]"
      ]
     },
     "execution_count": 4,
     "metadata": {},
     "output_type": "execute_result"
    }
   ],
   "source": [
    "# reading in the data \n",
    "airbnb_data = pd.read_csv(\"./data/wrangling/airbnb_hw.csv\") \n",
    "airbnb_data"
   ]
  },
  {
   "cell_type": "code",
   "execution_count": 5,
   "id": "ff4d1031-0716-486e-bbf6-e693ed555d91",
   "metadata": {
    "scrolled": true
   },
   "outputs": [
    {
     "data": {
      "text/plain": [
       "(array([19710.,  5707.,  1975.,  1276.,   744.,   403.,   317.,   167.,\n",
       "          117.,    62.]),\n",
       " array([  0.,  51., 102., 153., 204., 255., 306., 357., 408., 459., 510.]),\n",
       " <BarContainer object of 10 artists>)"
      ]
     },
     "execution_count": 5,
     "metadata": {},
     "output_type": "execute_result"
    },
    {
     "data": {
      "image/png": "[encoded data removed]",
      "text/plain": [
       "<Figure size 640x480 with 1 Axes>"
      ]
     },
     "metadata": {},
     "output_type": "display_data"
    }
   ],
   "source": [
    "# seeing if there is WEIRD outliers\n",
    "plt.hist(airbnb_data[\"Price\"])\n",
    "# ok it seems like they're all being read as strings?\n",
    "# it's like the lobotomy graph in class"
   ]
  },
  {
   "cell_type": "code",
   "execution_count": 6,
   "id": "86d1454b-baff-4f1d-af44-176522c871d6",
   "metadata": {},
   "outputs": [
    {
     "data": {
      "text/plain": [
       "0    145\n",
       "1     37\n",
       "2     28\n",
       "3    199\n",
       "4    549\n",
       "Name: Price, dtype: object"
      ]
     },
     "execution_count": 6,
     "metadata": {},
     "output_type": "execute_result"
    }
   ],
   "source": [
    "# i want to check if our floats are being registered as strings. \n",
    "# let's check the data in our \"Price\" column. \n",
    "airbnb_data[\"Price\"].head() "
   ]
  },
  {
   "cell_type": "code",
   "execution_count": 7,
   "id": "32bc1e81-fa4b-460f-b52f-2f6640d15af6",
   "metadata": {},
   "outputs": [
    {
     "name": "stdout",
     "output_type": "stream",
     "text": [
      "<class 'str'>\n"
     ]
    }
   ],
   "source": [
    "# is that number being registered as a string? \n",
    "print(type(airbnb_data[\"Price\"][0])) \n",
    "# it shouldn't be returning strings, so there is something wrong "
   ]
  },
  {
   "cell_type": "code",
   "execution_count": 8,
   "id": "9e2e7cd0-b41b-4daa-8ca5-b6bdfde7c7a9",
   "metadata": {},
   "outputs": [
    {
     "data": {
      "text/plain": [
       "0        145\n",
       "1         37\n",
       "2         28\n",
       "3        199\n",
       "4        549\n",
       "        ... \n",
       "30473    300\n",
       "30474    125\n",
       "30475     80\n",
       "30476     35\n",
       "30477     80\n",
       "Name: Price, Length: 30478, dtype: object"
      ]
     },
     "execution_count": 8,
     "metadata": {},
     "output_type": "execute_result"
    }
   ],
   "source": [
    "# we will be assigning the price data to its own variable so we can...\n",
    "# do stuff with the data without completely messing up the dataframe.\n",
    "prices = airbnb_data[\"Price\"]\n",
    "prices"
   ]
  },
  {
   "cell_type": "code",
   "execution_count": 9,
   "id": "489a03b5-2c58-496f-a974-46498729124c",
   "metadata": {},
   "outputs": [
    {
     "data": {
      "text/plain": [
       "0        145.0\n",
       "1         37.0\n",
       "2         28.0\n",
       "3        199.0\n",
       "4        549.0\n",
       "         ...  \n",
       "30473    300.0\n",
       "30474    125.0\n",
       "30475     80.0\n",
       "30476     35.0\n",
       "30477     80.0\n",
       "Name: Price, Length: 30478, dtype: float64"
      ]
     },
     "execution_count": 9,
     "metadata": {},
     "output_type": "execute_result"
    }
   ],
   "source": [
    "# time to coerce the strings to NaNs. \n",
    "# this is so that all the entries that can be registered as numbers\n",
    "# are indeed registered as numbers. \n",
    "# don't worry, i'll be returning the values that are strings...\n",
    "# ...to their rightful homes, if they can also be turned into...\n",
    "# ...numeric values. \n",
    "\n",
    "# we will assign this 'coerced' column to this own variable because...\n",
    "# ...i'd like to use the price column later. \n",
    "prices_1 = pd.to_numeric(prices, errors=\"coerce\")\n",
    "prices_1"
   ]
  },
  {
   "cell_type": "code",
   "execution_count": 10,
   "id": "7f6ea67c-c615-4521-90ee-393897d18d2c",
   "metadata": {},
   "outputs": [
    {
     "name": "stdout",
     "output_type": "stream",
     "text": [
      "[101, 263, 764, 1272, 1275, 1476, 1846, 1973, 1977, 2095, 2149, 2337, 2405, 2441, 2716, 2912, 3482, 3483, 3994, 4002, 4003, 4335, 4428, 4616, 4755, 4756, 4781, 5088, 5294, 5404, 5407, 5623, 6336, 6467, 6788, 7018, 7118, 7149, 7208, 7368, 7374, 7544, 7550, 7629, 7780, 7853, 8141, 8285, 8507, 8663, 8702, 9253, 9578, 10237, 10600, 11173, 11227, 11394, 11521, 12384, 12579, 12751, 12894, 12981, 13165, 13350, 13475, 13685, 13745, 14500, 14591, 14817, 14999, 15002, 15181, 15205, 15232, 15258, 15386, 15633, 15884, 15930, 15969, 16345, 16675, 16782, 16826, 16843, 16892, 17041, 17105, 17142, 17146, 17261, 17322, 17331, 17335, 17429, 17463, 17466, 17482, 17486, 17511, 17534, 17540, 17562, 17694, 17708, 17710, 17711, 17712, 17729, 17760, 17768, 17783, 17784, 17786, 17799, 17802, 17807, 17827, 17831, 17833, 17851, 17853, 17859, 17862, 17868, 17875, 17885, 17900, 17905, 17911, 17936, 17938, 17940, 17954, 17958, 17979, 17984, 17986, 18026, 18061, 18199, 18855, 18901, 19222, 19372, 19377, 19693, 20388, 20557, 20558, 21330, 21737, 21823, 22306, 23067, 23499, 23560, 23927, 24136, 24137, 25044, 25144, 25186, 25225, 25834, 26505, 27088, 27488, 27704, 27905, 28733, 28948, 28950, 28951, 28952, 28953, 28985, 30281]\n"
     ]
    }
   ],
   "source": [
    "# to take a look at the data in our price column that were strings...\n",
    "# ...we will have to take a look at what values were coerced to NaNs. \n",
    "nan_prices_1 = pd.DataFrame(prices_1.isna())\n",
    "# nan_df_1 <- i don't want to print this all out so i'm just saving it...\n",
    "# ...as a comment \n",
    "\n",
    "# every 'true' in nan_prices_1 was once a value that was coerced to a NaN.\n",
    "# so we want to create a data structure with only 'true' values so...\n",
    "# ...we can take a list at all the indices in that data structure.\n",
    "# the indices were never moved from where they were in the original...\n",
    "# ...data structure, so the indices will correlate with the indices...\n",
    "# ...of the strings in the original data structure. \n",
    "all_nans_1 = nan_prices_1.where(nan_prices_1.Price == True)\n",
    "all_nans_1 = all_nans_1.dropna()\n",
    "\n",
    "# let's view those indices. \n",
    "### CHATGPT HELPED ME WITH THIS LINE OF CODE. THIS IS CHATGPT'S DOING ###\n",
    "nans_idx_1 = all_nans_1.index.tolist()\n",
    "print(nans_idx_1)"
   ]
  },
  {
   "cell_type": "code",
   "execution_count": 11,
   "id": "60cbe2b9-3f6b-4f89-b204-4971603a7f3b",
   "metadata": {},
   "outputs": [
    {
     "data": {
      "text/html": [
       "<div>\n",
       "<style scoped>\n",
       "    .dataframe tbody tr th:only-of-type {\n",
       "        vertical-align: middle;\n",
       "    }\n",
       "\n",
       "    .dataframe tbody tr th {\n",
       "        vertical-align: top;\n",
       "    }\n",
       "\n",
       "    .dataframe thead th {\n",
       "        text-align: right;\n",
       "    }\n",
       "</style>\n",
       "<table border=\"1\" class=\"dataframe\">\n",
       "  <thead>\n",
       "    <tr style=\"text-align: right;\">\n",
       "      <th></th>\n",
       "      <th>Price</th>\n",
       "    </tr>\n",
       "  </thead>\n",
       "  <tbody>\n",
       "    <tr>\n",
       "      <th>101</th>\n",
       "      <td>1,990</td>\n",
       "    </tr>\n",
       "    <tr>\n",
       "      <th>263</th>\n",
       "      <td>1,000</td>\n",
       "    </tr>\n",
       "    <tr>\n",
       "      <th>764</th>\n",
       "      <td>1,200</td>\n",
       "    </tr>\n",
       "    <tr>\n",
       "      <th>1272</th>\n",
       "      <td>1,000</td>\n",
       "    </tr>\n",
       "    <tr>\n",
       "      <th>1275</th>\n",
       "      <td>5,000</td>\n",
       "    </tr>\n",
       "    <tr>\n",
       "      <th>...</th>\n",
       "      <td>...</td>\n",
       "    </tr>\n",
       "    <tr>\n",
       "      <th>28951</th>\n",
       "      <td>3,390</td>\n",
       "    </tr>\n",
       "    <tr>\n",
       "      <th>28952</th>\n",
       "      <td>1,356</td>\n",
       "    </tr>\n",
       "    <tr>\n",
       "      <th>28953</th>\n",
       "      <td>2,599</td>\n",
       "    </tr>\n",
       "    <tr>\n",
       "      <th>28985</th>\n",
       "      <td>2,000</td>\n",
       "    </tr>\n",
       "    <tr>\n",
       "      <th>30281</th>\n",
       "      <td>2,000</td>\n",
       "    </tr>\n",
       "  </tbody>\n",
       "</table>\n",
       "<p>181 rows × 1 columns</p>\n",
       "</div>"
      ],
      "text/plain": [
       "       Price\n",
       "101    1,990\n",
       "263    1,000\n",
       "764    1,200\n",
       "1272   1,000\n",
       "1275   5,000\n",
       "...      ...\n",
       "28951  3,390\n",
       "28952  1,356\n",
       "28953  2,599\n",
       "28985  2,000\n",
       "30281  2,000\n",
       "\n",
       "[181 rows x 1 columns]"
      ]
     },
     "execution_count": 11,
     "metadata": {},
     "output_type": "execute_result"
    }
   ],
   "source": [
    "# let's create a dataframe with just those indices and view...\n",
    "# ...the values in that dataframe. \n",
    "uncleaned_prices_1 = pd.DataFrame(prices[nans_idx_1])\n",
    "uncleaned_prices_1\n",
    "# looks like the issue is someone put a comma there. "
   ]
  },
  {
   "cell_type": "code",
   "execution_count": 12,
   "id": "7c070a77-d547-4ad8-9c73-396386fb8d89",
   "metadata": {},
   "outputs": [
    {
     "data": {
      "text/plain": [
       "0        145\n",
       "1         37\n",
       "2         28\n",
       "3        199\n",
       "4        549\n",
       "        ... \n",
       "30473    300\n",
       "30474    125\n",
       "30475     80\n",
       "30476     35\n",
       "30477     80\n",
       "Name: Price, Length: 30478, dtype: int64"
      ]
     },
     "execution_count": 12,
     "metadata": {},
     "output_type": "execute_result"
    }
   ],
   "source": [
    "# getting rid of those commas\n",
    "# https://saturncloud.io/blog/how-to-remove-characters-from-a-pandas-column-a-data-scientists-guide/\n",
    "# i am choosing to keep the data that ARE strings because we can easily turn...\n",
    "# ...them into numbers. \n",
    "prices = prices.str.replace(',', '')\n",
    "prices_2 = pd.to_numeric(prices, errors=\"coerce\")\n",
    "prices_2"
   ]
  },
  {
   "cell_type": "code",
   "execution_count": 13,
   "id": "7b87ddee-4a04-4532-8220-2cb82942226d",
   "metadata": {},
   "outputs": [
    {
     "data": {
      "text/html": [
       "<div>\n",
       "<style scoped>\n",
       "    .dataframe tbody tr th:only-of-type {\n",
       "        vertical-align: middle;\n",
       "    }\n",
       "\n",
       "    .dataframe tbody tr th {\n",
       "        vertical-align: top;\n",
       "    }\n",
       "\n",
       "    .dataframe thead th {\n",
       "        text-align: right;\n",
       "    }\n",
       "</style>\n",
       "<table border=\"1\" class=\"dataframe\">\n",
       "  <thead>\n",
       "    <tr style=\"text-align: right;\">\n",
       "      <th></th>\n",
       "      <th>Price</th>\n",
       "    </tr>\n",
       "  </thead>\n",
       "  <tbody>\n",
       "  </tbody>\n",
       "</table>\n",
       "</div>"
      ],
      "text/plain": [
       "Empty DataFrame\n",
       "Columns: [Price]\n",
       "Index: []"
      ]
     },
     "execution_count": 13,
     "metadata": {},
     "output_type": "execute_result"
    }
   ],
   "source": [
    "# we're gonna check where there were NaNs...\n",
    "# ...(because that's where there were strings)...\n",
    "# ...with the same process as last time we checked where strings were. \n",
    "\n",
    "# creating a data structure with just NaNs \n",
    "nan_prices_2 = pd.DataFrame(prices_2.isna())\n",
    "all_nans_2 = nan_prices_2.where(nan_prices_2.Price == True)\n",
    "all_nans_2 = all_nans_2.dropna()\n",
    "\n",
    "# turning the indices of all the values in that data structure...\n",
    "# ...into a list \n",
    "nans_idx_2 = all_nans_2.index.tolist()\n",
    "# print(nans_idx_2)\n",
    "# print(prices_2)\n",
    "\n",
    "# seeing all parts of the dataframe with indices that correspond with...\n",
    "# ...entries in the list. \n",
    "uncleaned_prices_2 = pd.DataFrame(prices[nans_idx_2])\n",
    "uncleaned_prices_2\n",
    "# yippie there's nothing that isn't a number now! "
   ]
  },
  {
   "cell_type": "code",
   "execution_count": 14,
   "id": "f4ccb175-dd3b-40bb-9665-68378a6b7bbc",
   "metadata": {
    "scrolled": true
   },
   "outputs": [
    {
     "data": {
      "text/plain": [
       "(array([2.983e+04, 5.130e+02, 6.400e+01, 2.800e+01, 1.400e+01, 1.000e+01,\n",
       "        4.000e+00, 4.000e+00, 2.000e+00, 5.000e+00, 0.000e+00, 1.000e+00,\n",
       "        1.000e+00, 0.000e+00, 0.000e+00, 1.000e+00, 0.000e+00, 0.000e+00,\n",
       "        0.000e+00, 1.000e+00]),\n",
       " array([   10. ,   509.5,  1009. ,  1508.5,  2008. ,  2507.5,  3007. ,\n",
       "         3506.5,  4006. ,  4505.5,  5005. ,  5504.5,  6004. ,  6503.5,\n",
       "         7003. ,  7502.5,  8002. ,  8501.5,  9001. ,  9500.5, 10000. ]),\n",
       " <BarContainer object of 20 artists>)"
      ]
     },
     "execution_count": 14,
     "metadata": {},
     "output_type": "execute_result"
    },
    {
     "data": {
      "image/png": "[encoded data removed]",
      "text/plain": [
       "<Figure size 640x480 with 1 Axes>"
      ]
     },
     "metadata": {},
     "output_type": "display_data"
    }
   ],
   "source": [
    "# time to make a chart to see if our data in our column is all numeric \n",
    "# yeah seems like prices_2 is all good. \n",
    "prices_all_numeric = prices_2\n",
    "plt.hist(prices_all_numeric, bins=20)\n",
    "# looks like there are WEIRD freaking outliers "
   ]
  },
  {
   "cell_type": "code",
   "execution_count": 15,
   "id": "3d30ec66-e788-432b-bd7c-68e84b6319f6",
   "metadata": {},
   "outputs": [
    {
     "name": "stdout",
     "output_type": "stream",
     "text": [
      "10\n",
      "10000\n"
     ]
    }
   ],
   "source": [
    "# what do we even have? \n",
    "print(np.min(prices_all_numeric))\n",
    "print(np.max(prices_all_numeric))\n",
    "\n",
    "# i guess it's possible to have an airbnb price that's that high? \n",
    "# the internet isn't giving me anything on a price cap for an airbnb and though it's absolutely ABSURD...\n",
    "# ...that one could charge that much, it's not hard to believe that it'd happen. \n",
    "\n",
    "# what to do next: maybe see if there are any variables that have EXTREMELY high counts in the data? \n",
    "# that way you'd know if they were just there to fill up NaNspace. "
   ]
  },
  {
   "cell_type": "code",
   "execution_count": 16,
   "id": "858c1da2-8859-4ee1-9f97-11b26aaec27b",
   "metadata": {},
   "outputs": [
    {
     "data": {
      "text/plain": [
       "Price\n",
       "150    1481\n",
       "100    1207\n",
       "200    1059\n",
       "125     889\n",
       "75      873\n",
       "       ... \n",
       "472       1\n",
       "454       1\n",
       "328       1\n",
       "396       1\n",
       "291       1\n",
       "Name: count, Length: 511, dtype: int64"
      ]
     },
     "execution_count": 16,
     "metadata": {},
     "output_type": "execute_result"
    }
   ],
   "source": [
    "# checking the counts of the values in our dataframe. \n",
    "prices_all_numeric.value_counts()\n",
    "# so it's not like there's an absurd amount of 999s.\n",
    "# if it were the mode of the data, i would be concerned. "
   ]
  },
  {
   "cell_type": "code",
   "execution_count": 17,
   "id": "d66faa0f-9430-4491-ba79-d1c67ec1b71c",
   "metadata": {},
   "outputs": [
    {
     "data": {
      "text/html": [
       "<div>\n",
       "<style scoped>\n",
       "    .dataframe tbody tr th:only-of-type {\n",
       "        vertical-align: middle;\n",
       "    }\n",
       "\n",
       "    .dataframe tbody tr th {\n",
       "        vertical-align: top;\n",
       "    }\n",
       "\n",
       "    .dataframe thead th {\n",
       "        text-align: right;\n",
       "    }\n",
       "</style>\n",
       "<table border=\"1\" class=\"dataframe\">\n",
       "  <thead>\n",
       "    <tr style=\"text-align: right;\">\n",
       "      <th></th>\n",
       "      <th>Host Id</th>\n",
       "      <th>Host Since</th>\n",
       "      <th>Name</th>\n",
       "      <th>Neighbourhood</th>\n",
       "      <th>Property Type</th>\n",
       "      <th>Review Scores Rating (bin)</th>\n",
       "      <th>Room Type</th>\n",
       "      <th>Zipcode</th>\n",
       "      <th>Beds</th>\n",
       "      <th>Number of Records</th>\n",
       "      <th>Number Of Reviews</th>\n",
       "      <th>Price_Old</th>\n",
       "      <th>Review Scores Rating</th>\n",
       "    </tr>\n",
       "  </thead>\n",
       "  <tbody>\n",
       "    <tr>\n",
       "      <th>0</th>\n",
       "      <td>5162530</td>\n",
       "      <td>NaN</td>\n",
       "      <td>1 Bedroom in Prime Williamsburg</td>\n",
       "      <td>Brooklyn</td>\n",
       "      <td>Apartment</td>\n",
       "      <td>NaN</td>\n",
       "      <td>Entire home/apt</td>\n",
       "      <td>11249.0</td>\n",
       "      <td>1.0</td>\n",
       "      <td>1</td>\n",
       "      <td>0</td>\n",
       "      <td>145</td>\n",
       "      <td>NaN</td>\n",
       "    </tr>\n",
       "    <tr>\n",
       "      <th>1</th>\n",
       "      <td>33134899</td>\n",
       "      <td>NaN</td>\n",
       "      <td>Sunny, Private room in Bushwick</td>\n",
       "      <td>Brooklyn</td>\n",
       "      <td>Apartment</td>\n",
       "      <td>NaN</td>\n",
       "      <td>Private room</td>\n",
       "      <td>11206.0</td>\n",
       "      <td>1.0</td>\n",
       "      <td>1</td>\n",
       "      <td>1</td>\n",
       "      <td>37</td>\n",
       "      <td>NaN</td>\n",
       "    </tr>\n",
       "    <tr>\n",
       "      <th>2</th>\n",
       "      <td>39608626</td>\n",
       "      <td>NaN</td>\n",
       "      <td>Sunny Room in Harlem</td>\n",
       "      <td>Manhattan</td>\n",
       "      <td>Apartment</td>\n",
       "      <td>NaN</td>\n",
       "      <td>Private room</td>\n",
       "      <td>10032.0</td>\n",
       "      <td>1.0</td>\n",
       "      <td>1</td>\n",
       "      <td>1</td>\n",
       "      <td>28</td>\n",
       "      <td>NaN</td>\n",
       "    </tr>\n",
       "  </tbody>\n",
       "</table>\n",
       "</div>"
      ],
      "text/plain": [
       "    Host Id Host Since                             Name Neighbourhood   \\\n",
       "0   5162530        NaN  1 Bedroom in Prime Williamsburg       Brooklyn   \n",
       "1  33134899        NaN  Sunny, Private room in Bushwick       Brooklyn   \n",
       "2  39608626        NaN             Sunny Room in Harlem      Manhattan   \n",
       "\n",
       "  Property Type  Review Scores Rating (bin)        Room Type  Zipcode  Beds  \\\n",
       "0     Apartment                         NaN  Entire home/apt  11249.0   1.0   \n",
       "1     Apartment                         NaN     Private room  11206.0   1.0   \n",
       "2     Apartment                         NaN     Private room  10032.0   1.0   \n",
       "\n",
       "   Number of Records  Number Of Reviews Price_Old  Review Scores Rating  \n",
       "0                  1                  0       145                   NaN  \n",
       "1                  1                  1        37                   NaN  \n",
       "2                  1                  1        28                   NaN  "
      ]
     },
     "execution_count": 17,
     "metadata": {},
     "output_type": "execute_result"
    }
   ],
   "source": [
    "# we're gonna take our cleaned data and attach it to the dataframe...\n",
    "# ...getting rid of our unclean column. \n",
    "\n",
    "# renaming our OLD price column so we know it's old \n",
    "airbnb_data = airbnb_data.rename(columns={\"Price\" : \"Price_Old\"})\n",
    "airbnb_data.head(3)"
   ]
  },
  {
   "cell_type": "code",
   "execution_count": 18,
   "id": "e3d96962-b4cb-4a30-bd9f-3fa95c71b174",
   "metadata": {},
   "outputs": [
    {
     "data": {
      "text/html": [
       "<div>\n",
       "<style scoped>\n",
       "    .dataframe tbody tr th:only-of-type {\n",
       "        vertical-align: middle;\n",
       "    }\n",
       "\n",
       "    .dataframe tbody tr th {\n",
       "        vertical-align: top;\n",
       "    }\n",
       "\n",
       "    .dataframe thead th {\n",
       "        text-align: right;\n",
       "    }\n",
       "</style>\n",
       "<table border=\"1\" class=\"dataframe\">\n",
       "  <thead>\n",
       "    <tr style=\"text-align: right;\">\n",
       "      <th></th>\n",
       "      <th>Host Id</th>\n",
       "      <th>Host Since</th>\n",
       "      <th>Name</th>\n",
       "      <th>Neighbourhood</th>\n",
       "      <th>Property Type</th>\n",
       "      <th>Review Scores Rating (bin)</th>\n",
       "      <th>Room Type</th>\n",
       "      <th>Zipcode</th>\n",
       "      <th>Beds</th>\n",
       "      <th>Number of Records</th>\n",
       "      <th>Number Of Reviews</th>\n",
       "      <th>Price_Old</th>\n",
       "      <th>Review Scores Rating</th>\n",
       "      <th>Price</th>\n",
       "    </tr>\n",
       "  </thead>\n",
       "  <tbody>\n",
       "    <tr>\n",
       "      <th>0</th>\n",
       "      <td>5162530</td>\n",
       "      <td>NaN</td>\n",
       "      <td>1 Bedroom in Prime Williamsburg</td>\n",
       "      <td>Brooklyn</td>\n",
       "      <td>Apartment</td>\n",
       "      <td>NaN</td>\n",
       "      <td>Entire home/apt</td>\n",
       "      <td>11249.0</td>\n",
       "      <td>1.0</td>\n",
       "      <td>1</td>\n",
       "      <td>0</td>\n",
       "      <td>145</td>\n",
       "      <td>NaN</td>\n",
       "      <td>145</td>\n",
       "    </tr>\n",
       "    <tr>\n",
       "      <th>1</th>\n",
       "      <td>33134899</td>\n",
       "      <td>NaN</td>\n",
       "      <td>Sunny, Private room in Bushwick</td>\n",
       "      <td>Brooklyn</td>\n",
       "      <td>Apartment</td>\n",
       "      <td>NaN</td>\n",
       "      <td>Private room</td>\n",
       "      <td>11206.0</td>\n",
       "      <td>1.0</td>\n",
       "      <td>1</td>\n",
       "      <td>1</td>\n",
       "      <td>37</td>\n",
       "      <td>NaN</td>\n",
       "      <td>37</td>\n",
       "    </tr>\n",
       "    <tr>\n",
       "      <th>2</th>\n",
       "      <td>39608626</td>\n",
       "      <td>NaN</td>\n",
       "      <td>Sunny Room in Harlem</td>\n",
       "      <td>Manhattan</td>\n",
       "      <td>Apartment</td>\n",
       "      <td>NaN</td>\n",
       "      <td>Private room</td>\n",
       "      <td>10032.0</td>\n",
       "      <td>1.0</td>\n",
       "      <td>1</td>\n",
       "      <td>1</td>\n",
       "      <td>28</td>\n",
       "      <td>NaN</td>\n",
       "      <td>28</td>\n",
       "    </tr>\n",
       "  </tbody>\n",
       "</table>\n",
       "</div>"
      ],
      "text/plain": [
       "    Host Id Host Since                             Name Neighbourhood   \\\n",
       "0   5162530        NaN  1 Bedroom in Prime Williamsburg       Brooklyn   \n",
       "1  33134899        NaN  Sunny, Private room in Bushwick       Brooklyn   \n",
       "2  39608626        NaN             Sunny Room in Harlem      Manhattan   \n",
       "\n",
       "  Property Type  Review Scores Rating (bin)        Room Type  Zipcode  Beds  \\\n",
       "0     Apartment                         NaN  Entire home/apt  11249.0   1.0   \n",
       "1     Apartment                         NaN     Private room  11206.0   1.0   \n",
       "2     Apartment                         NaN     Private room  10032.0   1.0   \n",
       "\n",
       "   Number of Records  Number Of Reviews Price_Old  Review Scores Rating  Price  \n",
       "0                  1                  0       145                   NaN    145  \n",
       "1                  1                  1        37                   NaN     37  \n",
       "2                  1                  1        28                   NaN     28  "
      ]
     },
     "execution_count": 18,
     "metadata": {},
     "output_type": "execute_result"
    }
   ],
   "source": [
    "# concacenate our cleaned column to the rest of the table\n",
    "new_airbnb_data = pd.concat([airbnb_data, prices_all_numeric],axis=1)\n",
    "# drop old column \n",
    "new_airbnb_data.drop(columns=\"Price_Old\")\n",
    "# did that work? \n",
    "new_airbnb_data.head(3)"
   ]
  },
  {
   "cell_type": "code",
   "execution_count": 19,
   "id": "2339628e-4b2b-461d-a6e6-02202e25fa78",
   "metadata": {},
   "outputs": [
    {
     "name": "stdout",
     "output_type": "stream",
     "text": [
      "<class 'numpy.int64'>\n"
     ]
    }
   ],
   "source": [
    "# did we successfully put our new numeric column in? \n",
    "print(type(new_airbnb_data[\"Price\"][0]))\n",
    "# yippie!"
   ]
  },
  {
   "cell_type": "code",
   "execution_count": 20,
   "id": "5fe773c3-93ae-4e2a-8f28-e2a035dbb90d",
   "metadata": {},
   "outputs": [],
   "source": [
    "# at least i am proud to say there are NO missing values with how i cleaned...\n",
    "# ...the data!"
   ]
  },
  {
   "cell_type": "code",
   "execution_count": 21,
   "id": "3e4b4e2f-d8b3-4cf3-a6d9-46cefee870a4",
   "metadata": {},
   "outputs": [],
   "source": [
    "# i could take this a step further by purging outliers. \n",
    "# but i only have limited time to get my work done and...\n",
    "# ...i think i learned what i needed to learn from this part of the...\n",
    "# ...assignment. "
   ]
  },
  {
   "cell_type": "markdown",
   "id": "1446563a-102e-463a-94ad-387041387d54",
   "metadata": {},
   "source": [
    "### Question 1, Part 2"
   ]
  },
  {
   "cell_type": "code",
   "execution_count": 22,
   "id": "3fcc91af-22f8-4353-a66e-0b5089cc24fa",
   "metadata": {},
   "outputs": [],
   "source": [
    "# let's take a look at our subject_injuries data\n",
    "police_data = pd.read_csv(\"./data/wrangling/mn_police_use_of_force.csv\") \n",
    "subject_injuries = police_data[\"subject_injury\"]"
   ]
  },
  {
   "cell_type": "code",
   "execution_count": 23,
   "id": "1f5d45e1-2c22-446b-b3cc-ababa6ccebe7",
   "metadata": {},
   "outputs": [
    {
     "data": {
      "text/plain": [
       "array([nan, 'No', 'Yes'], dtype=object)"
      ]
     },
     "execution_count": 23,
     "metadata": {},
     "output_type": "execute_result"
    }
   ],
   "source": [
    "# what unique values can i see? \n",
    "unique_inj = subject_injuries.unique()\n",
    "unique_inj\n",
    "# seems like we only have inputs of yes, no, and nan. that means our data should be fine, right? "
   ]
  },
  {
   "cell_type": "code",
   "execution_count": 24,
   "id": "b9396061-9d31-49ea-9007-fd66e86050c5",
   "metadata": {},
   "outputs": [
    {
     "data": {
      "text/plain": [
       "subject_injury\n",
       "True     9848\n",
       "False    3077\n",
       "Name: count, dtype: int64"
      ]
     },
     "execution_count": 24,
     "metadata": {},
     "output_type": "execute_result"
    }
   ],
   "source": [
    "# what proportion of values is missing? \n",
    "is_subjectinj_na = subject_injuries.isna()\n",
    "# ^ i wanna see how many TRUES we have. \n",
    "is_subjectinj_na.value_counts()\n",
    "# oopsie that's a lot. that means we have a lot of data missing bro. "
   ]
  },
  {
   "cell_type": "code",
   "execution_count": 25,
   "id": "e8d41b6c-a39f-4798-ad46-6389296970dd",
   "metadata": {},
   "outputs": [
    {
     "name": "stdout",
     "output_type": "stream",
     "text": [
      "The proportion of values in our subject_injury column that is missing is 0.7619342359767892.\n"
     ]
    }
   ],
   "source": [
    "# we can calculate that proportion. \n",
    "total_length_injury = len(is_subjectinj_na)\n",
    "print(f\"The proportion of values in our subject_injury column that is missing is {9848/total_length_injury}.\")\n",
    "# WOW. that is concerning; that means our injury data is REALLY incomplete\n",
    "# it also means that we cannot accurately discern whether, or what, uses of...\n",
    "# ...police force are dangerous. "
   ]
  },
  {
   "cell_type": "code",
   "execution_count": 26,
   "id": "7b3b8b2a-d7b7-4114-9ee3-a13920928cdc",
   "metadata": {},
   "outputs": [
    {
     "data": {
      "text/html": [
       "<div>\n",
       "<style scoped>\n",
       "    .dataframe tbody tr th:only-of-type {\n",
       "        vertical-align: middle;\n",
       "    }\n",
       "\n",
       "    .dataframe tbody tr th {\n",
       "        vertical-align: top;\n",
       "    }\n",
       "\n",
       "    .dataframe thead th {\n",
       "        text-align: right;\n",
       "    }\n",
       "</style>\n",
       "<table border=\"1\" class=\"dataframe\">\n",
       "  <thead>\n",
       "    <tr style=\"text-align: right;\">\n",
       "      <th>force_type</th>\n",
       "      <th>Baton</th>\n",
       "      <th>Bodily Force</th>\n",
       "      <th>Chemical Irritant</th>\n",
       "      <th>Firearm</th>\n",
       "      <th>Gun Point Display</th>\n",
       "      <th>Improvised Weapon</th>\n",
       "      <th>Less Lethal Projectile</th>\n",
       "      <th>Police K9 Bite</th>\n",
       "      <th>Taser</th>\n",
       "    </tr>\n",
       "    <tr>\n",
       "      <th>subject_injury</th>\n",
       "      <th></th>\n",
       "      <th></th>\n",
       "      <th></th>\n",
       "      <th></th>\n",
       "      <th></th>\n",
       "      <th></th>\n",
       "      <th></th>\n",
       "      <th></th>\n",
       "      <th></th>\n",
       "    </tr>\n",
       "  </thead>\n",
       "  <tbody>\n",
       "    <tr>\n",
       "      <th>No</th>\n",
       "      <td>0</td>\n",
       "      <td>1093</td>\n",
       "      <td>131</td>\n",
       "      <td>2</td>\n",
       "      <td>33</td>\n",
       "      <td>34</td>\n",
       "      <td>1</td>\n",
       "      <td>2</td>\n",
       "      <td>150</td>\n",
       "    </tr>\n",
       "    <tr>\n",
       "      <th>Yes</th>\n",
       "      <td>2</td>\n",
       "      <td>1286</td>\n",
       "      <td>41</td>\n",
       "      <td>0</td>\n",
       "      <td>44</td>\n",
       "      <td>40</td>\n",
       "      <td>2</td>\n",
       "      <td>44</td>\n",
       "      <td>172</td>\n",
       "    </tr>\n",
       "  </tbody>\n",
       "</table>\n",
       "</div>"
      ],
      "text/plain": [
       "force_type      Baton  Bodily Force  Chemical Irritant  Firearm  \\\n",
       "subject_injury                                                    \n",
       "No                  0          1093                131        2   \n",
       "Yes                 2          1286                 41        0   \n",
       "\n",
       "force_type      Gun Point Display  Improvised Weapon  Less Lethal Projectile  \\\n",
       "subject_injury                                                                 \n",
       "No                             33                 34                       1   \n",
       "Yes                            44                 40                       2   \n",
       "\n",
       "force_type      Police K9 Bite  Taser  \n",
       "subject_injury                         \n",
       "No                           2    150  \n",
       "Yes                         44    172  "
      ]
     },
     "execution_count": 26,
     "metadata": {},
     "output_type": "execute_result"
    }
   ],
   "source": [
    "# let's cross-tabulate to see whether injury and...\n",
    "# ...force type are correlated. \n",
    "# https://pandas.pydata.org/docs/reference/api/pandas.crosstab.html\n",
    "pd.crosstab(police_data[\"subject_injury\"], police_data[\"force_type\"]) "
   ]
  },
  {
   "cell_type": "code",
   "execution_count": 27,
   "id": "ba6ef93f-36d2-4ca1-a66e-bedda5a42a53",
   "metadata": {},
   "outputs": [
    {
     "data": {
      "text/html": [
       "<div>\n",
       "<style scoped>\n",
       "    .dataframe tbody tr th:only-of-type {\n",
       "        vertical-align: middle;\n",
       "    }\n",
       "\n",
       "    .dataframe tbody tr th {\n",
       "        vertical-align: top;\n",
       "    }\n",
       "\n",
       "    .dataframe thead th {\n",
       "        text-align: right;\n",
       "    }\n",
       "</style>\n",
       "<table border=\"1\" class=\"dataframe\">\n",
       "  <thead>\n",
       "    <tr style=\"text-align: right;\">\n",
       "      <th></th>\n",
       "      <th>response_datetime</th>\n",
       "      <th>problem</th>\n",
       "      <th>is_911_call</th>\n",
       "      <th>primary_offense</th>\n",
       "      <th>subject_injury</th>\n",
       "      <th>force_type</th>\n",
       "      <th>force_type_action</th>\n",
       "      <th>race</th>\n",
       "      <th>sex</th>\n",
       "      <th>age</th>\n",
       "      <th>type_resistance</th>\n",
       "      <th>precinct</th>\n",
       "      <th>neighborhood</th>\n",
       "      <th>is_subj_inj_missing</th>\n",
       "    </tr>\n",
       "  </thead>\n",
       "  <tbody>\n",
       "    <tr>\n",
       "      <th>0</th>\n",
       "      <td>2016/01/01 00:47:36</td>\n",
       "      <td>Assault in Progress</td>\n",
       "      <td>Yes</td>\n",
       "      <td>DASLT1</td>\n",
       "      <td>NaN</td>\n",
       "      <td>Bodily Force</td>\n",
       "      <td>Body Weight to Pin</td>\n",
       "      <td>Black</td>\n",
       "      <td>Male</td>\n",
       "      <td>20.0</td>\n",
       "      <td>Tensed</td>\n",
       "      <td>1</td>\n",
       "      <td>Downtown East</td>\n",
       "      <td>True</td>\n",
       "    </tr>\n",
       "    <tr>\n",
       "      <th>1</th>\n",
       "      <td>2016/01/01 02:19:34</td>\n",
       "      <td>Fight</td>\n",
       "      <td>No</td>\n",
       "      <td>DISCON</td>\n",
       "      <td>NaN</td>\n",
       "      <td>Chemical Irritant</td>\n",
       "      <td>Personal Mace</td>\n",
       "      <td>Black</td>\n",
       "      <td>Female</td>\n",
       "      <td>27.0</td>\n",
       "      <td>Verbal Non-Compliance</td>\n",
       "      <td>1</td>\n",
       "      <td>Downtown West</td>\n",
       "      <td>True</td>\n",
       "    </tr>\n",
       "    <tr>\n",
       "      <th>2</th>\n",
       "      <td>2016/01/01 02:19:34</td>\n",
       "      <td>Fight</td>\n",
       "      <td>No</td>\n",
       "      <td>DISCON</td>\n",
       "      <td>NaN</td>\n",
       "      <td>Chemical Irritant</td>\n",
       "      <td>Personal Mace</td>\n",
       "      <td>White</td>\n",
       "      <td>Female</td>\n",
       "      <td>23.0</td>\n",
       "      <td>Verbal Non-Compliance</td>\n",
       "      <td>1</td>\n",
       "      <td>Downtown West</td>\n",
       "      <td>True</td>\n",
       "    </tr>\n",
       "    <tr>\n",
       "      <th>3</th>\n",
       "      <td>2016/01/01 02:28:48</td>\n",
       "      <td>Fight</td>\n",
       "      <td>No</td>\n",
       "      <td>PRIORI</td>\n",
       "      <td>NaN</td>\n",
       "      <td>Chemical Irritant</td>\n",
       "      <td>Crowd Control Mace</td>\n",
       "      <td>Black</td>\n",
       "      <td>Male</td>\n",
       "      <td>20.0</td>\n",
       "      <td>Commission of Crime</td>\n",
       "      <td>1</td>\n",
       "      <td>Downtown West</td>\n",
       "      <td>True</td>\n",
       "    </tr>\n",
       "    <tr>\n",
       "      <th>4</th>\n",
       "      <td>2016/01/01 02:28:48</td>\n",
       "      <td>Fight</td>\n",
       "      <td>No</td>\n",
       "      <td>PRIORI</td>\n",
       "      <td>NaN</td>\n",
       "      <td>Chemical Irritant</td>\n",
       "      <td>Crowd Control Mace</td>\n",
       "      <td>Black</td>\n",
       "      <td>Male</td>\n",
       "      <td>20.0</td>\n",
       "      <td>Commission of Crime</td>\n",
       "      <td>1</td>\n",
       "      <td>Downtown West</td>\n",
       "      <td>True</td>\n",
       "    </tr>\n",
       "  </tbody>\n",
       "</table>\n",
       "</div>"
      ],
      "text/plain": [
       "     response_datetime               problem is_911_call primary_offense  \\\n",
       "0  2016/01/01 00:47:36  Assault in Progress          Yes          DASLT1   \n",
       "1  2016/01/01 02:19:34                Fight           No          DISCON   \n",
       "2  2016/01/01 02:19:34                Fight           No          DISCON   \n",
       "3  2016/01/01 02:28:48                Fight           No          PRIORI   \n",
       "4  2016/01/01 02:28:48                Fight           No          PRIORI   \n",
       "\n",
       "  subject_injury         force_type   force_type_action   race     sex   age  \\\n",
       "0            NaN       Bodily Force  Body Weight to Pin  Black    Male  20.0   \n",
       "1            NaN  Chemical Irritant       Personal Mace  Black  Female  27.0   \n",
       "2            NaN  Chemical Irritant       Personal Mace  White  Female  23.0   \n",
       "3            NaN  Chemical Irritant  Crowd Control Mace  Black    Male  20.0   \n",
       "4            NaN  Chemical Irritant  Crowd Control Mace  Black    Male  20.0   \n",
       "\n",
       "         type_resistance  precinct   neighborhood  is_subj_inj_missing  \n",
       "0                 Tensed         1  Downtown East                 True  \n",
       "1  Verbal Non-Compliance         1  Downtown West                 True  \n",
       "2  Verbal Non-Compliance         1  Downtown West                 True  \n",
       "3    Commission of Crime         1  Downtown West                 True  \n",
       "4    Commission of Crime         1  Downtown West                 True  "
      ]
     },
     "execution_count": 27,
     "metadata": {},
     "output_type": "execute_result"
    }
   ],
   "source": [
    "# our goal, however, is to see whether there is correlations between...\n",
    "# ...MISSING injury data and force type. \n",
    "\n",
    "# adding a new column to the dataframe that tells us whether or not...\n",
    "# ...subject injury data for that particular case of police force was...\n",
    "# ...gathered or not. \n",
    "# https://www.geeksforgeeks.org/adding-new-column-to-existing-dataframe-in-pandas/\n",
    "police_data[\"is_subj_inj_missing\"] = is_subjectinj_na\n",
    "police_data.head()"
   ]
  },
  {
   "cell_type": "code",
   "execution_count": 28,
   "id": "f7df3a18-34ab-4070-8651-3f0f25c993ef",
   "metadata": {},
   "outputs": [
    {
     "data": {
      "text/html": [
       "<div>\n",
       "<style scoped>\n",
       "    .dataframe tbody tr th:only-of-type {\n",
       "        vertical-align: middle;\n",
       "    }\n",
       "\n",
       "    .dataframe tbody tr th {\n",
       "        vertical-align: top;\n",
       "    }\n",
       "\n",
       "    .dataframe thead th {\n",
       "        text-align: right;\n",
       "    }\n",
       "</style>\n",
       "<table border=\"1\" class=\"dataframe\">\n",
       "  <thead>\n",
       "    <tr style=\"text-align: right;\">\n",
       "      <th>force_type</th>\n",
       "      <th>Baton</th>\n",
       "      <th>Bodily Force</th>\n",
       "      <th>Chemical Irritant</th>\n",
       "      <th>Firearm</th>\n",
       "      <th>Gun Point Display</th>\n",
       "      <th>Improvised Weapon</th>\n",
       "      <th>Less Lethal</th>\n",
       "      <th>Less Lethal Projectile</th>\n",
       "      <th>Maximal Restraint Technique</th>\n",
       "      <th>Police K9 Bite</th>\n",
       "      <th>Taser</th>\n",
       "    </tr>\n",
       "    <tr>\n",
       "      <th>is_subj_inj_missing</th>\n",
       "      <th></th>\n",
       "      <th></th>\n",
       "      <th></th>\n",
       "      <th></th>\n",
       "      <th></th>\n",
       "      <th></th>\n",
       "      <th></th>\n",
       "      <th></th>\n",
       "      <th></th>\n",
       "      <th></th>\n",
       "      <th></th>\n",
       "    </tr>\n",
       "  </thead>\n",
       "  <tbody>\n",
       "    <tr>\n",
       "      <th>False</th>\n",
       "      <td>2</td>\n",
       "      <td>2379</td>\n",
       "      <td>172</td>\n",
       "      <td>2</td>\n",
       "      <td>77</td>\n",
       "      <td>74</td>\n",
       "      <td>0</td>\n",
       "      <td>3</td>\n",
       "      <td>0</td>\n",
       "      <td>46</td>\n",
       "      <td>322</td>\n",
       "    </tr>\n",
       "    <tr>\n",
       "      <th>True</th>\n",
       "      <td>2</td>\n",
       "      <td>7051</td>\n",
       "      <td>1421</td>\n",
       "      <td>0</td>\n",
       "      <td>27</td>\n",
       "      <td>74</td>\n",
       "      <td>87</td>\n",
       "      <td>0</td>\n",
       "      <td>170</td>\n",
       "      <td>31</td>\n",
       "      <td>985</td>\n",
       "    </tr>\n",
       "  </tbody>\n",
       "</table>\n",
       "</div>"
      ],
      "text/plain": [
       "force_type           Baton  Bodily Force  Chemical Irritant  Firearm  \\\n",
       "is_subj_inj_missing                                                    \n",
       "False                    2          2379                172        2   \n",
       "True                     2          7051               1421        0   \n",
       "\n",
       "force_type           Gun Point Display  Improvised Weapon  Less Lethal  \\\n",
       "is_subj_inj_missing                                                      \n",
       "False                               77                 74            0   \n",
       "True                                27                 74           87   \n",
       "\n",
       "force_type           Less Lethal Projectile  Maximal Restraint Technique  \\\n",
       "is_subj_inj_missing                                                        \n",
       "False                                     3                            0   \n",
       "True                                      0                          170   \n",
       "\n",
       "force_type           Police K9 Bite  Taser  \n",
       "is_subj_inj_missing                         \n",
       "False                            46    322  \n",
       "True                             31    985  "
      ]
     },
     "execution_count": 28,
     "metadata": {},
     "output_type": "execute_result"
    }
   ],
   "source": [
    "# cross-tabulate 'is subject injury missing' data and also 'force type' data. \n",
    "pd.crosstab(police_data[\"is_subj_inj_missing\"], police_data[\"force_type\"]) \n",
    "# i see......"
   ]
  },
  {
   "cell_type": "code",
   "execution_count": 29,
   "id": "93897f23-bb6e-44b3-8ecf-8a7bbe010709",
   "metadata": {},
   "outputs": [],
   "source": [
    "# from a cursory glance of the data, we have greatest NaN proportions for:\n",
    "    # 'Less Lethal' (not sure what this means, internet says taser/baton/etc)\n",
    "    # Chemical Irritant\n",
    "    # Maximal Restraint Technique\n",
    "# the categories with the smallest proportions of NaNs...\n",
    "# ...(the categories that have more than 10 values, that is)...\n",
    "# ...are:\n",
    "    # K9 bite\n",
    "    # improvised weapon \n",
    "    # gun point display \n",
    "\n",
    "# seems like they tend to be techniques that are harmful but not life...\n",
    "# ...threatening in what i assume are most cases. i remember discussing in...\n",
    "# ...class that it was possible that they only register injuries that...\n",
    "# ...lead to hospitalisation and i would be inclined to agree. \n",
    "# the injuries are likely there but there isn't a written record of them. "
   ]
  },
  {
   "cell_type": "markdown",
   "id": "7c23730a-eb2e-46af-a7a6-9bd753d61895",
   "metadata": {},
   "source": [
    "### Question 1, Part 3"
   ]
  },
  {
   "cell_type": "code",
   "execution_count": 30,
   "id": "29e920a0-850f-4dac-9721-b860477a381d",
   "metadata": {
    "scrolled": true
   },
   "outputs": [
    {
     "data": {
      "text/html": [
       "<div>\n",
       "<style scoped>\n",
       "    .dataframe tbody tr th:only-of-type {\n",
       "        vertical-align: middle;\n",
       "    }\n",
       "\n",
       "    .dataframe tbody tr th {\n",
       "        vertical-align: top;\n",
       "    }\n",
       "\n",
       "    .dataframe thead th {\n",
       "        text-align: right;\n",
       "    }\n",
       "</style>\n",
       "<table border=\"1\" class=\"dataframe\">\n",
       "  <thead>\n",
       "    <tr style=\"text-align: right;\">\n",
       "      <th></th>\n",
       "      <th>InternalStudyID</th>\n",
       "      <th>REQ_REC#</th>\n",
       "      <th>Defendant_Sex</th>\n",
       "      <th>Defendant_Race</th>\n",
       "      <th>Defendant_BirthYear</th>\n",
       "      <th>Defendant_Age</th>\n",
       "      <th>Defendant_AgeGroup</th>\n",
       "      <th>Defendant_AgeatCurrentArrest</th>\n",
       "      <th>Defendant_AttorneyTypeAtCaseClosure</th>\n",
       "      <th>Defendant_IndigencyStatus</th>\n",
       "      <th>...</th>\n",
       "      <th>NewFelonySexualAssaultArrest_OffDate</th>\n",
       "      <th>NewFelonySexualAssaultArrest_ArrestDate</th>\n",
       "      <th>NewFelonySexualAssaultArrest_DaysBetweenContactEventandOffDate</th>\n",
       "      <th>NewFelonySexualAssaultArrest_DaysBetweenOffDateandArrestDate</th>\n",
       "      <th>NewFelonySexualAssaultArrest_DaysBetweenReleaseDateandOffDate</th>\n",
       "      <th>NewFelonySexualAssaultArrest_Disposition</th>\n",
       "      <th>Intertnalindicator_ReasonforExcludingFromFollowUpAnalysis</th>\n",
       "      <th>CriminalHistoryRecordsReturnedorCMSRecordsFoundforIndividual</th>\n",
       "      <th>DispRecordFoundforChargesinOct2017Contact_Atleast1dispfound</th>\n",
       "      <th>CrimeCommission2021ReportClassificationofDefendants</th>\n",
       "    </tr>\n",
       "  </thead>\n",
       "  <tbody>\n",
       "    <tr>\n",
       "      <th>0</th>\n",
       "      <td>ADI00001</td>\n",
       "      <td>1</td>\n",
       "      <td>M</td>\n",
       "      <td>W</td>\n",
       "      <td>1986</td>\n",
       "      <td>31</td>\n",
       "      <td>3</td>\n",
       "      <td>31</td>\n",
       "      <td>99</td>\n",
       "      <td>99</td>\n",
       "      <td>...</td>\n",
       "      <td></td>\n",
       "      <td></td>\n",
       "      <td></td>\n",
       "      <td>999</td>\n",
       "      <td>999</td>\n",
       "      <td></td>\n",
       "      <td>4</td>\n",
       "      <td>1</td>\n",
       "      <td>0</td>\n",
       "      <td>Defendant could not be classified or tracked d...</td>\n",
       "    </tr>\n",
       "    <tr>\n",
       "      <th>1</th>\n",
       "      <td>ADI00007</td>\n",
       "      <td>3</td>\n",
       "      <td>M</td>\n",
       "      <td>B</td>\n",
       "      <td>1956</td>\n",
       "      <td>60</td>\n",
       "      <td>6</td>\n",
       "      <td>60</td>\n",
       "      <td>9</td>\n",
       "      <td>9</td>\n",
       "      <td>...</td>\n",
       "      <td></td>\n",
       "      <td></td>\n",
       "      <td></td>\n",
       "      <td>999</td>\n",
       "      <td>999</td>\n",
       "      <td></td>\n",
       "      <td>5</td>\n",
       "      <td>1</td>\n",
       "      <td>1</td>\n",
       "      <td>Defendant Detained Entire Pre-Trial Period_Und...</td>\n",
       "    </tr>\n",
       "    <tr>\n",
       "      <th>2</th>\n",
       "      <td>ADI00008</td>\n",
       "      <td>4</td>\n",
       "      <td>M</td>\n",
       "      <td>W</td>\n",
       "      <td>1990</td>\n",
       "      <td>27</td>\n",
       "      <td>3</td>\n",
       "      <td>27</td>\n",
       "      <td>9</td>\n",
       "      <td>9</td>\n",
       "      <td>...</td>\n",
       "      <td></td>\n",
       "      <td></td>\n",
       "      <td></td>\n",
       "      <td>999</td>\n",
       "      <td>999</td>\n",
       "      <td></td>\n",
       "      <td>5</td>\n",
       "      <td>1</td>\n",
       "      <td>1</td>\n",
       "      <td>Defendant Detained Entire Pre-Trial Period_Und...</td>\n",
       "    </tr>\n",
       "    <tr>\n",
       "      <th>3</th>\n",
       "      <td>CDI00036</td>\n",
       "      <td>6</td>\n",
       "      <td>M</td>\n",
       "      <td>B</td>\n",
       "      <td>1989</td>\n",
       "      <td>27</td>\n",
       "      <td>3</td>\n",
       "      <td>27</td>\n",
       "      <td>0</td>\n",
       "      <td>0</td>\n",
       "      <td>...</td>\n",
       "      <td></td>\n",
       "      <td></td>\n",
       "      <td></td>\n",
       "      <td>999</td>\n",
       "      <td>999</td>\n",
       "      <td></td>\n",
       "      <td>5</td>\n",
       "      <td>1</td>\n",
       "      <td>1</td>\n",
       "      <td>Defendant Detained Entire Pre-Trial Period_Und...</td>\n",
       "    </tr>\n",
       "    <tr>\n",
       "      <th>4</th>\n",
       "      <td>CDI00038</td>\n",
       "      <td>7</td>\n",
       "      <td>F</td>\n",
       "      <td>W</td>\n",
       "      <td>1988</td>\n",
       "      <td>28</td>\n",
       "      <td>3</td>\n",
       "      <td>28</td>\n",
       "      <td>0</td>\n",
       "      <td>0</td>\n",
       "      <td>...</td>\n",
       "      <td></td>\n",
       "      <td></td>\n",
       "      <td></td>\n",
       "      <td>999</td>\n",
       "      <td>999</td>\n",
       "      <td></td>\n",
       "      <td>0</td>\n",
       "      <td>1</td>\n",
       "      <td>1</td>\n",
       "      <td>New criminal offense punishable by incarcerati...</td>\n",
       "    </tr>\n",
       "    <tr>\n",
       "      <th>...</th>\n",
       "      <td>...</td>\n",
       "      <td>...</td>\n",
       "      <td>...</td>\n",
       "      <td>...</td>\n",
       "      <td>...</td>\n",
       "      <td>...</td>\n",
       "      <td>...</td>\n",
       "      <td>...</td>\n",
       "      <td>...</td>\n",
       "      <td>...</td>\n",
       "      <td>...</td>\n",
       "      <td>...</td>\n",
       "      <td>...</td>\n",
       "      <td>...</td>\n",
       "      <td>...</td>\n",
       "      <td>...</td>\n",
       "      <td>...</td>\n",
       "      <td>...</td>\n",
       "      <td>...</td>\n",
       "      <td>...</td>\n",
       "      <td>...</td>\n",
       "    </tr>\n",
       "    <tr>\n",
       "      <th>22981</th>\n",
       "      <td>SJA00343</td>\n",
       "      <td>22839</td>\n",
       "      <td>M</td>\n",
       "      <td>B</td>\n",
       "      <td>1976</td>\n",
       "      <td>41</td>\n",
       "      <td>4</td>\n",
       "      <td>41</td>\n",
       "      <td>2</td>\n",
       "      <td>1</td>\n",
       "      <td>...</td>\n",
       "      <td></td>\n",
       "      <td></td>\n",
       "      <td></td>\n",
       "      <td>999</td>\n",
       "      <td>999</td>\n",
       "      <td></td>\n",
       "      <td>0</td>\n",
       "      <td>1</td>\n",
       "      <td>1</td>\n",
       "      <td>New criminal offense punishable by incarcerati...</td>\n",
       "    </tr>\n",
       "    <tr>\n",
       "      <th>22982</th>\n",
       "      <td>SJA00344</td>\n",
       "      <td></td>\n",
       "      <td>F</td>\n",
       "      <td>W</td>\n",
       "      <td></td>\n",
       "      <td></td>\n",
       "      <td>9</td>\n",
       "      <td></td>\n",
       "      <td>99</td>\n",
       "      <td>99</td>\n",
       "      <td>...</td>\n",
       "      <td></td>\n",
       "      <td></td>\n",
       "      <td></td>\n",
       "      <td>999</td>\n",
       "      <td>999</td>\n",
       "      <td></td>\n",
       "      <td>3</td>\n",
       "      <td></td>\n",
       "      <td>9</td>\n",
       "      <td>Defendant could not be classified or tracked d...</td>\n",
       "    </tr>\n",
       "    <tr>\n",
       "      <th>22983</th>\n",
       "      <td>SJA00345</td>\n",
       "      <td>22841</td>\n",
       "      <td>M</td>\n",
       "      <td>B</td>\n",
       "      <td>1981</td>\n",
       "      <td>36</td>\n",
       "      <td>4</td>\n",
       "      <td>36</td>\n",
       "      <td>1</td>\n",
       "      <td>1</td>\n",
       "      <td>...</td>\n",
       "      <td></td>\n",
       "      <td></td>\n",
       "      <td></td>\n",
       "      <td>999</td>\n",
       "      <td>999</td>\n",
       "      <td></td>\n",
       "      <td>0</td>\n",
       "      <td>1</td>\n",
       "      <td>1</td>\n",
       "      <td>New criminal offense punishable by incarcerati...</td>\n",
       "    </tr>\n",
       "    <tr>\n",
       "      <th>22984</th>\n",
       "      <td>SJA00346</td>\n",
       "      <td>22842</td>\n",
       "      <td>F</td>\n",
       "      <td>B</td>\n",
       "      <td>1993</td>\n",
       "      <td>24</td>\n",
       "      <td>2</td>\n",
       "      <td>24</td>\n",
       "      <td>5</td>\n",
       "      <td>0</td>\n",
       "      <td>...</td>\n",
       "      <td></td>\n",
       "      <td></td>\n",
       "      <td></td>\n",
       "      <td>999</td>\n",
       "      <td>999</td>\n",
       "      <td></td>\n",
       "      <td>0</td>\n",
       "      <td>1</td>\n",
       "      <td>1</td>\n",
       "      <td>New criminal offense punishable by incarcerati...</td>\n",
       "    </tr>\n",
       "    <tr>\n",
       "      <th>22985</th>\n",
       "      <td>SJA00347</td>\n",
       "      <td>22843</td>\n",
       "      <td>M</td>\n",
       "      <td>B</td>\n",
       "      <td>1985</td>\n",
       "      <td>31</td>\n",
       "      <td>3</td>\n",
       "      <td>31</td>\n",
       "      <td>2</td>\n",
       "      <td>1</td>\n",
       "      <td>...</td>\n",
       "      <td></td>\n",
       "      <td></td>\n",
       "      <td></td>\n",
       "      <td>999</td>\n",
       "      <td>999</td>\n",
       "      <td></td>\n",
       "      <td>0</td>\n",
       "      <td>1</td>\n",
       "      <td>1</td>\n",
       "      <td>New criminal offense punishable by incarcerati...</td>\n",
       "    </tr>\n",
       "  </tbody>\n",
       "</table>\n",
       "<p>22986 rows × 709 columns</p>\n",
       "</div>"
      ],
      "text/plain": [
       "      InternalStudyID REQ_REC# Defendant_Sex Defendant_Race  \\\n",
       "0            ADI00001        1             M              W   \n",
       "1            ADI00007        3             M              B   \n",
       "2            ADI00008        4             M              W   \n",
       "3            CDI00036        6             M              B   \n",
       "4            CDI00038        7             F              W   \n",
       "...               ...      ...           ...            ...   \n",
       "22981        SJA00343    22839             M              B   \n",
       "22982        SJA00344                      F              W   \n",
       "22983        SJA00345    22841             M              B   \n",
       "22984        SJA00346    22842             F              B   \n",
       "22985        SJA00347    22843             M              B   \n",
       "\n",
       "      Defendant_BirthYear Defendant_Age  Defendant_AgeGroup  \\\n",
       "0                    1986            31                   3   \n",
       "1                    1956            60                   6   \n",
       "2                    1990            27                   3   \n",
       "3                    1989            27                   3   \n",
       "4                    1988            28                   3   \n",
       "...                   ...           ...                 ...   \n",
       "22981                1976            41                   4   \n",
       "22982                                                     9   \n",
       "22983                1981            36                   4   \n",
       "22984                1993            24                   2   \n",
       "22985                1985            31                   3   \n",
       "\n",
       "      Defendant_AgeatCurrentArrest  Defendant_AttorneyTypeAtCaseClosure  \\\n",
       "0                               31                                   99   \n",
       "1                               60                                    9   \n",
       "2                               27                                    9   \n",
       "3                               27                                    0   \n",
       "4                               28                                    0   \n",
       "...                            ...                                  ...   \n",
       "22981                           41                                    2   \n",
       "22982                                                                99   \n",
       "22983                           36                                    1   \n",
       "22984                           24                                    5   \n",
       "22985                           31                                    2   \n",
       "\n",
       "       Defendant_IndigencyStatus  ... NewFelonySexualAssaultArrest_OffDate  \\\n",
       "0                             99  ...                                        \n",
       "1                              9  ...                                        \n",
       "2                              9  ...                                        \n",
       "3                              0  ...                                        \n",
       "4                              0  ...                                        \n",
       "...                          ...  ...                                  ...   \n",
       "22981                          1  ...                                        \n",
       "22982                         99  ...                                        \n",
       "22983                          1  ...                                        \n",
       "22984                          0  ...                                        \n",
       "22985                          1  ...                                        \n",
       "\n",
       "      NewFelonySexualAssaultArrest_ArrestDate  \\\n",
       "0                                               \n",
       "1                                               \n",
       "2                                               \n",
       "3                                               \n",
       "4                                               \n",
       "...                                       ...   \n",
       "22981                                           \n",
       "22982                                           \n",
       "22983                                           \n",
       "22984                                           \n",
       "22985                                           \n",
       "\n",
       "       NewFelonySexualAssaultArrest_DaysBetweenContactEventandOffDate  \\\n",
       "0                                                                       \n",
       "1                                                                       \n",
       "2                                                                       \n",
       "3                                                                       \n",
       "4                                                                       \n",
       "...                                                  ...                \n",
       "22981                                                                   \n",
       "22982                                                                   \n",
       "22983                                                                   \n",
       "22984                                                                   \n",
       "22985                                                                   \n",
       "\n",
       "      NewFelonySexualAssaultArrest_DaysBetweenOffDateandArrestDate  \\\n",
       "0                                                    999             \n",
       "1                                                    999             \n",
       "2                                                    999             \n",
       "3                                                    999             \n",
       "4                                                    999             \n",
       "...                                                  ...             \n",
       "22981                                                999             \n",
       "22982                                                999             \n",
       "22983                                                999             \n",
       "22984                                                999             \n",
       "22985                                                999             \n",
       "\n",
       "       NewFelonySexualAssaultArrest_DaysBetweenReleaseDateandOffDate  \\\n",
       "0                                                    999               \n",
       "1                                                    999               \n",
       "2                                                    999               \n",
       "3                                                    999               \n",
       "4                                                    999               \n",
       "...                                                  ...               \n",
       "22981                                                999               \n",
       "22982                                                999               \n",
       "22983                                                999               \n",
       "22984                                                999               \n",
       "22985                                                999               \n",
       "\n",
       "       NewFelonySexualAssaultArrest_Disposition  \\\n",
       "0                                                 \n",
       "1                                                 \n",
       "2                                                 \n",
       "3                                                 \n",
       "4                                                 \n",
       "...                                         ...   \n",
       "22981                                             \n",
       "22982                                             \n",
       "22983                                             \n",
       "22984                                             \n",
       "22985                                             \n",
       "\n",
       "       Intertnalindicator_ReasonforExcludingFromFollowUpAnalysis  \\\n",
       "0                                                      4           \n",
       "1                                                      5           \n",
       "2                                                      5           \n",
       "3                                                      5           \n",
       "4                                                      0           \n",
       "...                                                  ...           \n",
       "22981                                                  0           \n",
       "22982                                                  3           \n",
       "22983                                                  0           \n",
       "22984                                                  0           \n",
       "22985                                                  0           \n",
       "\n",
       "       CriminalHistoryRecordsReturnedorCMSRecordsFoundforIndividual  \\\n",
       "0                                                      1              \n",
       "1                                                      1              \n",
       "2                                                      1              \n",
       "3                                                      1              \n",
       "4                                                      1              \n",
       "...                                                  ...              \n",
       "22981                                                  1              \n",
       "22982                                                                 \n",
       "22983                                                  1              \n",
       "22984                                                  1              \n",
       "22985                                                  1              \n",
       "\n",
       "      DispRecordFoundforChargesinOct2017Contact_Atleast1dispfound  \\\n",
       "0                                                      0            \n",
       "1                                                      1            \n",
       "2                                                      1            \n",
       "3                                                      1            \n",
       "4                                                      1            \n",
       "...                                                  ...            \n",
       "22981                                                  1            \n",
       "22982                                                  9            \n",
       "22983                                                  1            \n",
       "22984                                                  1            \n",
       "22985                                                  1            \n",
       "\n",
       "       CrimeCommission2021ReportClassificationofDefendants  \n",
       "0      Defendant could not be classified or tracked d...    \n",
       "1      Defendant Detained Entire Pre-Trial Period_Und...    \n",
       "2      Defendant Detained Entire Pre-Trial Period_Und...    \n",
       "3      Defendant Detained Entire Pre-Trial Period_Und...    \n",
       "4      New criminal offense punishable by incarcerati...    \n",
       "...                                                  ...    \n",
       "22981  New criminal offense punishable by incarcerati...    \n",
       "22982  Defendant could not be classified or tracked d...    \n",
       "22983  New criminal offense punishable by incarcerati...    \n",
       "22984  New criminal offense punishable by incarcerati...    \n",
       "22985  New criminal offense punishable by incarcerati...    \n",
       "\n",
       "[22986 rows x 709 columns]"
      ]
     },
     "execution_count": 30,
     "metadata": {},
     "output_type": "execute_result"
    }
   ],
   "source": [
    "# reading in our data (takes a second)\n",
    "url = 'http://www.vcsc.virginia.gov/pretrialdataproject/October%202017%20Cohort_Virginia%20Pretrial%20Data%20Project_Deidentified%20FINAL%20Update_10272021.csv'\n",
    "justice_data = pd.read_csv(url,low_memory=False) # Pandas downloads and loads the .csv file for you\n",
    "justice_data"
   ]
  },
  {
   "cell_type": "code",
   "execution_count": 31,
   "id": "e578b131-9bae-4dde-8f39-493680f123b1",
   "metadata": {},
   "outputs": [
    {
     "data": {
      "text/plain": [
       "0        9\n",
       "1        0\n",
       "2        0\n",
       "3        0\n",
       "4        1\n",
       "        ..\n",
       "22981    1\n",
       "22982    1\n",
       "22983    1\n",
       "22984    1\n",
       "22985    1\n",
       "Name: WhetherDefendantWasReleasedPretrial, Length: 22986, dtype: int64"
      ]
     },
     "execution_count": 31,
     "metadata": {},
     "output_type": "execute_result"
    }
   ],
   "source": [
    "# what values are in our pretrial release status data?\n",
    "# (we assign the column from our dataframe to its own variable so... \n",
    "# ...we can explore.) \n",
    "pretrial_release_status = justice_data[\"WhetherDefendantWasReleasedPretrial\"]\n",
    "pretrial_release_status"
   ]
  },
  {
   "cell_type": "code",
   "execution_count": 32,
   "id": "d913b09b-d6f6-441f-80dc-54f6900323b7",
   "metadata": {},
   "outputs": [
    {
     "data": {
      "text/plain": [
       "array([9, 0, 1])"
      ]
     },
     "execution_count": 32,
     "metadata": {},
     "output_type": "execute_result"
    }
   ],
   "source": [
    "# what are the different kinds of values in 'pretrial release status'?\n",
    "pretrial_release_status.unique()\n",
    "# who was lobotomised enough to replace NaNs with '9'?!"
   ]
  },
  {
   "cell_type": "code",
   "execution_count": 33,
   "id": "f303ef39-4f80-4179-bfd6-f5fe80fbda9c",
   "metadata": {},
   "outputs": [
    {
     "data": {
      "text/plain": [
       "WhetherDefendantWasReleasedPretrial\n",
       "1    19154\n",
       "0     3801\n",
       "9       31\n",
       "Name: count, dtype: int64"
      ]
     },
     "execution_count": 33,
     "metadata": {},
     "output_type": "execute_result"
    }
   ],
   "source": [
    "# looking at value counts\n",
    "pretrial_release_status.value_counts()\n",
    "# we got a couple of NaNs. the rest seem to be booleans. \n",
    "# 1 = TRUE (released), 0 = FALSE (not released)"
   ]
  },
  {
   "cell_type": "code",
   "execution_count": 34,
   "id": "2d5c06c9-30f1-485e-a15d-b6b887440672",
   "metadata": {},
   "outputs": [
    {
     "data": {
      "text/plain": [
       "0        NaN\n",
       "1        0.0\n",
       "2        0.0\n",
       "3        0.0\n",
       "4        1.0\n",
       "        ... \n",
       "22981    1.0\n",
       "22982    1.0\n",
       "22983    1.0\n",
       "22984    1.0\n",
       "22985    1.0\n",
       "Name: WhetherDefendantWasReleasedPretrial, Length: 22986, dtype: float64"
      ]
     },
     "execution_count": 34,
     "metadata": {},
     "output_type": "execute_result"
    }
   ],
   "source": [
    "# we assume '9' is a stand in for 'nan', and even if we didn't...\n",
    "# ...we'd still put an NaN there because we don't know what 9 even means. \n",
    "pretrial_release_status = pretrial_release_status.replace(9, np.nan)\n",
    "pretrial_release_status"
   ]
  },
  {
   "cell_type": "code",
   "execution_count": 35,
   "id": "42fe76c9-d73a-4009-b4f4-4eff79490266",
   "metadata": {},
   "outputs": [
    {
     "data": {
      "text/plain": [
       "WhetherDefendantWasReleasedPretrial\n",
       "1.0    19154\n",
       "0.0     3801\n",
       "Name: count, dtype: int64"
      ]
     },
     "execution_count": 35,
     "metadata": {},
     "output_type": "execute_result"
    }
   ],
   "source": [
    "# did that work\n",
    "pretrial_release_status.value_counts()"
   ]
  },
  {
   "cell_type": "code",
   "execution_count": 36,
   "id": "497d92f1-a2b0-4024-9770-6cdc0db92916",
   "metadata": {},
   "outputs": [
    {
     "data": {
      "text/plain": [
       "0    9\n",
       "1    0\n",
       "2    0\n",
       "Name: pretrial_old, dtype: int64"
      ]
     },
     "execution_count": 36,
     "metadata": {},
     "output_type": "execute_result"
    }
   ],
   "source": [
    "# replacing our old column. let's rename the old column so we know it's old\n",
    "justice_data = justice_data.rename(columns={\"WhetherDefendantWasReleasedPretrial\" : \"pretrial_old\"})\n",
    "# checking to see if the renaming process was successful\n",
    "justice_data[\"pretrial_old\"].head(3)"
   ]
  },
  {
   "cell_type": "code",
   "execution_count": 37,
   "id": "9a1e3aa8-5742-4ab8-a6e2-93e3617ee4f8",
   "metadata": {},
   "outputs": [
    {
     "data": {
      "text/html": [
       "<div>\n",
       "<style scoped>\n",
       "    .dataframe tbody tr th:only-of-type {\n",
       "        vertical-align: middle;\n",
       "    }\n",
       "\n",
       "    .dataframe tbody tr th {\n",
       "        vertical-align: top;\n",
       "    }\n",
       "\n",
       "    .dataframe thead th {\n",
       "        text-align: right;\n",
       "    }\n",
       "</style>\n",
       "<table border=\"1\" class=\"dataframe\">\n",
       "  <thead>\n",
       "    <tr style=\"text-align: right;\">\n",
       "      <th></th>\n",
       "      <th>InternalStudyID</th>\n",
       "      <th>REQ_REC#</th>\n",
       "      <th>Defendant_Sex</th>\n",
       "      <th>Defendant_Race</th>\n",
       "      <th>Defendant_BirthYear</th>\n",
       "      <th>Defendant_Age</th>\n",
       "      <th>Defendant_AgeGroup</th>\n",
       "      <th>Defendant_AgeatCurrentArrest</th>\n",
       "      <th>Defendant_AttorneyTypeAtCaseClosure</th>\n",
       "      <th>Defendant_IndigencyStatus</th>\n",
       "      <th>...</th>\n",
       "      <th>NewFelonySexualAssaultArrest_ArrestDate</th>\n",
       "      <th>NewFelonySexualAssaultArrest_DaysBetweenContactEventandOffDate</th>\n",
       "      <th>NewFelonySexualAssaultArrest_DaysBetweenOffDateandArrestDate</th>\n",
       "      <th>NewFelonySexualAssaultArrest_DaysBetweenReleaseDateandOffDate</th>\n",
       "      <th>NewFelonySexualAssaultArrest_Disposition</th>\n",
       "      <th>Intertnalindicator_ReasonforExcludingFromFollowUpAnalysis</th>\n",
       "      <th>CriminalHistoryRecordsReturnedorCMSRecordsFoundforIndividual</th>\n",
       "      <th>DispRecordFoundforChargesinOct2017Contact_Atleast1dispfound</th>\n",
       "      <th>CrimeCommission2021ReportClassificationofDefendants</th>\n",
       "      <th>WhetherDefendantWasReleasedPretrial</th>\n",
       "    </tr>\n",
       "  </thead>\n",
       "  <tbody>\n",
       "    <tr>\n",
       "      <th>0</th>\n",
       "      <td>ADI00001</td>\n",
       "      <td>1</td>\n",
       "      <td>M</td>\n",
       "      <td>W</td>\n",
       "      <td>1986</td>\n",
       "      <td>31</td>\n",
       "      <td>3</td>\n",
       "      <td>31</td>\n",
       "      <td>99</td>\n",
       "      <td>99</td>\n",
       "      <td>...</td>\n",
       "      <td></td>\n",
       "      <td></td>\n",
       "      <td>999</td>\n",
       "      <td>999</td>\n",
       "      <td></td>\n",
       "      <td>4</td>\n",
       "      <td>1</td>\n",
       "      <td>0</td>\n",
       "      <td>Defendant could not be classified or tracked d...</td>\n",
       "      <td>NaN</td>\n",
       "    </tr>\n",
       "    <tr>\n",
       "      <th>1</th>\n",
       "      <td>ADI00007</td>\n",
       "      <td>3</td>\n",
       "      <td>M</td>\n",
       "      <td>B</td>\n",
       "      <td>1956</td>\n",
       "      <td>60</td>\n",
       "      <td>6</td>\n",
       "      <td>60</td>\n",
       "      <td>9</td>\n",
       "      <td>9</td>\n",
       "      <td>...</td>\n",
       "      <td></td>\n",
       "      <td></td>\n",
       "      <td>999</td>\n",
       "      <td>999</td>\n",
       "      <td></td>\n",
       "      <td>5</td>\n",
       "      <td>1</td>\n",
       "      <td>1</td>\n",
       "      <td>Defendant Detained Entire Pre-Trial Period_Und...</td>\n",
       "      <td>0.0</td>\n",
       "    </tr>\n",
       "    <tr>\n",
       "      <th>2</th>\n",
       "      <td>ADI00008</td>\n",
       "      <td>4</td>\n",
       "      <td>M</td>\n",
       "      <td>W</td>\n",
       "      <td>1990</td>\n",
       "      <td>27</td>\n",
       "      <td>3</td>\n",
       "      <td>27</td>\n",
       "      <td>9</td>\n",
       "      <td>9</td>\n",
       "      <td>...</td>\n",
       "      <td></td>\n",
       "      <td></td>\n",
       "      <td>999</td>\n",
       "      <td>999</td>\n",
       "      <td></td>\n",
       "      <td>5</td>\n",
       "      <td>1</td>\n",
       "      <td>1</td>\n",
       "      <td>Defendant Detained Entire Pre-Trial Period_Und...</td>\n",
       "      <td>0.0</td>\n",
       "    </tr>\n",
       "  </tbody>\n",
       "</table>\n",
       "<p>3 rows × 710 columns</p>\n",
       "</div>"
      ],
      "text/plain": [
       "  InternalStudyID REQ_REC# Defendant_Sex Defendant_Race Defendant_BirthYear  \\\n",
       "0        ADI00001        1             M              W                1986   \n",
       "1        ADI00007        3             M              B                1956   \n",
       "2        ADI00008        4             M              W                1990   \n",
       "\n",
       "  Defendant_Age  Defendant_AgeGroup Defendant_AgeatCurrentArrest  \\\n",
       "0            31                   3                           31   \n",
       "1            60                   6                           60   \n",
       "2            27                   3                           27   \n",
       "\n",
       "   Defendant_AttorneyTypeAtCaseClosure  Defendant_IndigencyStatus  ...  \\\n",
       "0                                   99                         99  ...   \n",
       "1                                    9                          9  ...   \n",
       "2                                    9                          9  ...   \n",
       "\n",
       "  NewFelonySexualAssaultArrest_ArrestDate  \\\n",
       "0                                           \n",
       "1                                           \n",
       "2                                           \n",
       "\n",
       "  NewFelonySexualAssaultArrest_DaysBetweenContactEventandOffDate  \\\n",
       "0                                                                  \n",
       "1                                                                  \n",
       "2                                                                  \n",
       "\n",
       "   NewFelonySexualAssaultArrest_DaysBetweenOffDateandArrestDate  \\\n",
       "0                                                999              \n",
       "1                                                999              \n",
       "2                                                999              \n",
       "\n",
       "  NewFelonySexualAssaultArrest_DaysBetweenReleaseDateandOffDate  \\\n",
       "0                                                999              \n",
       "1                                                999              \n",
       "2                                                999              \n",
       "\n",
       "   NewFelonySexualAssaultArrest_Disposition  \\\n",
       "0                                             \n",
       "1                                             \n",
       "2                                             \n",
       "\n",
       "   Intertnalindicator_ReasonforExcludingFromFollowUpAnalysis  \\\n",
       "0                                                  4           \n",
       "1                                                  5           \n",
       "2                                                  5           \n",
       "\n",
       "   CriminalHistoryRecordsReturnedorCMSRecordsFoundforIndividual  \\\n",
       "0                                                  1              \n",
       "1                                                  1              \n",
       "2                                                  1              \n",
       "\n",
       "   DispRecordFoundforChargesinOct2017Contact_Atleast1dispfound  \\\n",
       "0                                                  0             \n",
       "1                                                  1             \n",
       "2                                                  1             \n",
       "\n",
       "  CrimeCommission2021ReportClassificationofDefendants  \\\n",
       "0  Defendant could not be classified or tracked d...    \n",
       "1  Defendant Detained Entire Pre-Trial Period_Und...    \n",
       "2  Defendant Detained Entire Pre-Trial Period_Und...    \n",
       "\n",
       "   WhetherDefendantWasReleasedPretrial  \n",
       "0                                  NaN  \n",
       "1                                  0.0  \n",
       "2                                  0.0  \n",
       "\n",
       "[3 rows x 710 columns]"
      ]
     },
     "execution_count": 37,
     "metadata": {},
     "output_type": "execute_result"
    }
   ],
   "source": [
    "# concacenate our cleaned column to the rest of the table\n",
    "new_justice_data = pd.concat([justice_data, pretrial_release_status],axis=1)\n",
    "# drop old column \n",
    "new_justice_data.drop(columns=\"pretrial_old\")\n",
    "# did that work? \n",
    "# (new_justice_data.head(3) should suffice for us to view because one of...\n",
    "# ...the first values of our dataframe was a 9.) \n",
    "new_justice_data.head(3)"
   ]
  },
  {
   "cell_type": "code",
   "execution_count": 38,
   "id": "0bb9359f-3a48-4fdf-a0a3-ed2337871395",
   "metadata": {},
   "outputs": [
    {
     "data": {
      "text/plain": [
       "0    NaN\n",
       "1    0.0\n",
       "2    0.0\n",
       "Name: WhetherDefendantWasReleasedPretrial, dtype: float64"
      ]
     },
     "execution_count": 38,
     "metadata": {},
     "output_type": "execute_result"
    }
   ],
   "source": [
    "# seeing if that concatenation was successful\n",
    "new_justice_data[\"WhetherDefendantWasReleasedPretrial\"].head(3)\n",
    "# yippie!\n",
    "# optional would be renaming that column but, we are running out of time. "
   ]
  },
  {
   "cell_type": "markdown",
   "id": "c1164436-5057-4dcd-b3c3-7607283a91cb",
   "metadata": {},
   "source": [
    "### Question 1, Part 4"
   ]
  },
  {
   "cell_type": "code",
   "execution_count": 48,
   "id": "ac2759e3-8373-4b3d-bc75-6b3842ddf1f3",
   "metadata": {},
   "outputs": [
    {
     "data": {
      "text/plain": [
       "0                    \n",
       "1                  60\n",
       "2                  12\n",
       "3    .985626283367556\n",
       "4                    \n",
       "Name: ImposedSentenceAllChargeInContactEvent, dtype: object"
      ]
     },
     "execution_count": 48,
     "metadata": {},
     "output_type": "execute_result"
    }
   ],
   "source": [
    "# surveying our imposed sentence data\n",
    "justice_data[\"ImposedSentenceAllChargeInContactEvent\"].head() \n"
   ]
  },
  {
   "cell_type": "code",
   "execution_count": 49,
   "id": "0e6d6661-ad7b-49cd-81bb-c79a773b69fd",
   "metadata": {},
   "outputs": [
    {
     "data": {
      "text/plain": [
       "SentenceTypeAllChargesAtConvictionInContactEvent\n",
       "4    8779\n",
       "0    8720\n",
       "1    4299\n",
       "2     914\n",
       "9     274\n",
       "Name: count, dtype: int64"
      ]
     },
     "execution_count": 49,
     "metadata": {},
     "output_type": "execute_result"
    }
   ],
   "source": [
    "# i was told to look at this variable so...\n",
    "justice_data[\"SentenceTypeAllChargesAtConvictionInContactEvent\"].value_counts()\n",
    "# what do each of these numbers mean? is there a key to find out? "
   ]
  },
  {
   "cell_type": "raw",
   "id": "8ac3d3e1-7a6a-430c-858b-403b30e2ab7e",
   "metadata": {},
   "source": [
    "4. Missing values, not at random: For the pretrial data covered in the lecture, clean the `ImposedSentenceAllChargeInContactEvent` variable as well as you can, and explain the choices you make. (Hint: Look at the `SentenceTypeAllChargesAtConvictionInContactEvent` variable.)"
   ]
  },
  {
   "cell_type": "code",
   "execution_count": 41,
   "id": "626e0c61-5a78-4a5c-9b40-ca8677715872",
   "metadata": {},
   "outputs": [
    {
     "data": {
      "text/html": [
       "<div>\n",
       "<style scoped>\n",
       "    .dataframe tbody tr th:only-of-type {\n",
       "        vertical-align: middle;\n",
       "    }\n",
       "\n",
       "    .dataframe tbody tr th {\n",
       "        vertical-align: top;\n",
       "    }\n",
       "\n",
       "    .dataframe thead th {\n",
       "        text-align: right;\n",
       "    }\n",
       "</style>\n",
       "<table border=\"1\" class=\"dataframe\">\n",
       "  <thead>\n",
       "    <tr style=\"text-align: right;\">\n",
       "      <th>ImposedSentenceAllChargeInContactEvent</th>\n",
       "      <th></th>\n",
       "      <th>.0328542094455852</th>\n",
       "      <th>.0657084188911704</th>\n",
       "      <th>.0985626283367557</th>\n",
       "      <th>.131416837782341</th>\n",
       "      <th>.164271047227926</th>\n",
       "      <th>.197125256673511</th>\n",
       "      <th>.262833675564682</th>\n",
       "      <th>.328542094455852</th>\n",
       "      <th>.394250513347023</th>\n",
       "      <th>...</th>\n",
       "      <th>94.1642710472279</th>\n",
       "      <th>95</th>\n",
       "      <th>96</th>\n",
       "      <th>96.0328542094456</th>\n",
       "      <th>960</th>\n",
       "      <th>98</th>\n",
       "      <th>98.95687885</th>\n",
       "      <th>99</th>\n",
       "      <th>99.3285420944559</th>\n",
       "      <th>99.4928131416838</th>\n",
       "    </tr>\n",
       "    <tr>\n",
       "      <th>SentenceTypeAllChargesAtConvictionInContactEvent</th>\n",
       "      <th></th>\n",
       "      <th></th>\n",
       "      <th></th>\n",
       "      <th></th>\n",
       "      <th></th>\n",
       "      <th></th>\n",
       "      <th></th>\n",
       "      <th></th>\n",
       "      <th></th>\n",
       "      <th></th>\n",
       "      <th></th>\n",
       "      <th></th>\n",
       "      <th></th>\n",
       "      <th></th>\n",
       "      <th></th>\n",
       "      <th></th>\n",
       "      <th></th>\n",
       "      <th></th>\n",
       "      <th></th>\n",
       "      <th></th>\n",
       "      <th></th>\n",
       "    </tr>\n",
       "  </thead>\n",
       "  <tbody>\n",
       "    <tr>\n",
       "      <th>0</th>\n",
       "      <td>0</td>\n",
       "      <td>0</td>\n",
       "      <td>3</td>\n",
       "      <td>2</td>\n",
       "      <td>4</td>\n",
       "      <td>26</td>\n",
       "      <td>0</td>\n",
       "      <td>0</td>\n",
       "      <td>276</td>\n",
       "      <td>0</td>\n",
       "      <td>...</td>\n",
       "      <td>0</td>\n",
       "      <td>0</td>\n",
       "      <td>7</td>\n",
       "      <td>0</td>\n",
       "      <td>0</td>\n",
       "      <td>0</td>\n",
       "      <td>0</td>\n",
       "      <td>0</td>\n",
       "      <td>0</td>\n",
       "      <td>0</td>\n",
       "    </tr>\n",
       "    <tr>\n",
       "      <th>1</th>\n",
       "      <td>0</td>\n",
       "      <td>6</td>\n",
       "      <td>21</td>\n",
       "      <td>6</td>\n",
       "      <td>10</td>\n",
       "      <td>33</td>\n",
       "      <td>6</td>\n",
       "      <td>3</td>\n",
       "      <td>337</td>\n",
       "      <td>3</td>\n",
       "      <td>...</td>\n",
       "      <td>1</td>\n",
       "      <td>0</td>\n",
       "      <td>11</td>\n",
       "      <td>1</td>\n",
       "      <td>0</td>\n",
       "      <td>0</td>\n",
       "      <td>0</td>\n",
       "      <td>1</td>\n",
       "      <td>1</td>\n",
       "      <td>1</td>\n",
       "    </tr>\n",
       "    <tr>\n",
       "      <th>2</th>\n",
       "      <td>0</td>\n",
       "      <td>0</td>\n",
       "      <td>0</td>\n",
       "      <td>0</td>\n",
       "      <td>0</td>\n",
       "      <td>0</td>\n",
       "      <td>0</td>\n",
       "      <td>0</td>\n",
       "      <td>0</td>\n",
       "      <td>0</td>\n",
       "      <td>...</td>\n",
       "      <td>0</td>\n",
       "      <td>1</td>\n",
       "      <td>21</td>\n",
       "      <td>0</td>\n",
       "      <td>1</td>\n",
       "      <td>1</td>\n",
       "      <td>1</td>\n",
       "      <td>0</td>\n",
       "      <td>0</td>\n",
       "      <td>0</td>\n",
       "    </tr>\n",
       "    <tr>\n",
       "      <th>4</th>\n",
       "      <td>8779</td>\n",
       "      <td>0</td>\n",
       "      <td>0</td>\n",
       "      <td>0</td>\n",
       "      <td>0</td>\n",
       "      <td>0</td>\n",
       "      <td>0</td>\n",
       "      <td>0</td>\n",
       "      <td>0</td>\n",
       "      <td>0</td>\n",
       "      <td>...</td>\n",
       "      <td>0</td>\n",
       "      <td>0</td>\n",
       "      <td>0</td>\n",
       "      <td>0</td>\n",
       "      <td>0</td>\n",
       "      <td>0</td>\n",
       "      <td>0</td>\n",
       "      <td>0</td>\n",
       "      <td>0</td>\n",
       "      <td>0</td>\n",
       "    </tr>\n",
       "    <tr>\n",
       "      <th>9</th>\n",
       "      <td>274</td>\n",
       "      <td>0</td>\n",
       "      <td>0</td>\n",
       "      <td>0</td>\n",
       "      <td>0</td>\n",
       "      <td>0</td>\n",
       "      <td>0</td>\n",
       "      <td>0</td>\n",
       "      <td>0</td>\n",
       "      <td>0</td>\n",
       "      <td>...</td>\n",
       "      <td>0</td>\n",
       "      <td>0</td>\n",
       "      <td>0</td>\n",
       "      <td>0</td>\n",
       "      <td>0</td>\n",
       "      <td>0</td>\n",
       "      <td>0</td>\n",
       "      <td>0</td>\n",
       "      <td>0</td>\n",
       "      <td>0</td>\n",
       "    </tr>\n",
       "  </tbody>\n",
       "</table>\n",
       "<p>5 rows × 484 columns</p>\n",
       "</div>"
      ],
      "text/plain": [
       "ImposedSentenceAllChargeInContactEvent                  .0328542094455852  \\\n",
       "SentenceTypeAllChargesAtConvictionInContactEvent                            \n",
       "0                                                    0                  0   \n",
       "1                                                    0                  6   \n",
       "2                                                    0                  0   \n",
       "4                                                 8779                  0   \n",
       "9                                                  274                  0   \n",
       "\n",
       "ImposedSentenceAllChargeInContactEvent            .0657084188911704  \\\n",
       "SentenceTypeAllChargesAtConvictionInContactEvent                      \n",
       "0                                                                 3   \n",
       "1                                                                21   \n",
       "2                                                                 0   \n",
       "4                                                                 0   \n",
       "9                                                                 0   \n",
       "\n",
       "ImposedSentenceAllChargeInContactEvent            .0985626283367557  \\\n",
       "SentenceTypeAllChargesAtConvictionInContactEvent                      \n",
       "0                                                                 2   \n",
       "1                                                                 6   \n",
       "2                                                                 0   \n",
       "4                                                                 0   \n",
       "9                                                                 0   \n",
       "\n",
       "ImposedSentenceAllChargeInContactEvent            .131416837782341  \\\n",
       "SentenceTypeAllChargesAtConvictionInContactEvent                     \n",
       "0                                                                4   \n",
       "1                                                               10   \n",
       "2                                                                0   \n",
       "4                                                                0   \n",
       "9                                                                0   \n",
       "\n",
       "ImposedSentenceAllChargeInContactEvent            .164271047227926  \\\n",
       "SentenceTypeAllChargesAtConvictionInContactEvent                     \n",
       "0                                                               26   \n",
       "1                                                               33   \n",
       "2                                                                0   \n",
       "4                                                                0   \n",
       "9                                                                0   \n",
       "\n",
       "ImposedSentenceAllChargeInContactEvent            .197125256673511  \\\n",
       "SentenceTypeAllChargesAtConvictionInContactEvent                     \n",
       "0                                                                0   \n",
       "1                                                                6   \n",
       "2                                                                0   \n",
       "4                                                                0   \n",
       "9                                                                0   \n",
       "\n",
       "ImposedSentenceAllChargeInContactEvent            .262833675564682  \\\n",
       "SentenceTypeAllChargesAtConvictionInContactEvent                     \n",
       "0                                                                0   \n",
       "1                                                                3   \n",
       "2                                                                0   \n",
       "4                                                                0   \n",
       "9                                                                0   \n",
       "\n",
       "ImposedSentenceAllChargeInContactEvent            .328542094455852  \\\n",
       "SentenceTypeAllChargesAtConvictionInContactEvent                     \n",
       "0                                                              276   \n",
       "1                                                              337   \n",
       "2                                                                0   \n",
       "4                                                                0   \n",
       "9                                                                0   \n",
       "\n",
       "ImposedSentenceAllChargeInContactEvent            .394250513347023  ...  \\\n",
       "SentenceTypeAllChargesAtConvictionInContactEvent                    ...   \n",
       "0                                                                0  ...   \n",
       "1                                                                3  ...   \n",
       "2                                                                0  ...   \n",
       "4                                                                0  ...   \n",
       "9                                                                0  ...   \n",
       "\n",
       "ImposedSentenceAllChargeInContactEvent            94.1642710472279  95  96  \\\n",
       "SentenceTypeAllChargesAtConvictionInContactEvent                             \n",
       "0                                                                0   0   7   \n",
       "1                                                                1   0  11   \n",
       "2                                                                0   1  21   \n",
       "4                                                                0   0   0   \n",
       "9                                                                0   0   0   \n",
       "\n",
       "ImposedSentenceAllChargeInContactEvent            96.0328542094456  960  98  \\\n",
       "SentenceTypeAllChargesAtConvictionInContactEvent                              \n",
       "0                                                                0    0   0   \n",
       "1                                                                1    0   0   \n",
       "2                                                                0    1   1   \n",
       "4                                                                0    0   0   \n",
       "9                                                                0    0   0   \n",
       "\n",
       "ImposedSentenceAllChargeInContactEvent            98.95687885  99  \\\n",
       "SentenceTypeAllChargesAtConvictionInContactEvent                    \n",
       "0                                                           0   0   \n",
       "1                                                           0   1   \n",
       "2                                                           1   0   \n",
       "4                                                           0   0   \n",
       "9                                                           0   0   \n",
       "\n",
       "ImposedSentenceAllChargeInContactEvent            99.3285420944559  \\\n",
       "SentenceTypeAllChargesAtConvictionInContactEvent                     \n",
       "0                                                                0   \n",
       "1                                                                1   \n",
       "2                                                                0   \n",
       "4                                                                0   \n",
       "9                                                                0   \n",
       "\n",
       "ImposedSentenceAllChargeInContactEvent            99.4928131416838  \n",
       "SentenceTypeAllChargesAtConvictionInContactEvent                    \n",
       "0                                                                0  \n",
       "1                                                                1  \n",
       "2                                                                0  \n",
       "4                                                                0  \n",
       "9                                                                0  \n",
       "\n",
       "[5 rows x 484 columns]"
      ]
     },
     "execution_count": 41,
     "metadata": {},
     "output_type": "execute_result"
    }
   ],
   "source": [
    "# cross-tabulate the variables given in our hint so we can see if there's...\n",
    "# ...any correlations between values of the different variables, or...\n",
    "# ...unclean data for one variable corresponding to certain values in...\n",
    "# ...another piece of data\n",
    "pd.crosstab(justice_data[\"SentenceTypeAllChargesAtConvictionInContactEvent\"], justice_data[\"ImposedSentenceAllChargeInContactEvent\"])\n",
    "# seems like we have NaNs EXCLUSIVELY where the 'imposed...\n",
    "# ...sentence' variable is left blank. \n",
    "\n",
    "# those NaNs seem to be represented by both '4' and '9'! \n",
    "# because i don't see any 4s and 9s for values that aren't blank. \n",
    "\n",
    "# there are also not a significant amount of random 99s so i assume 99...\n",
    "# ...was not used as a placeholder number. "
   ]
  },
  {
   "cell_type": "code",
   "execution_count": 42,
   "id": "3109c945-c466-4b16-bb6b-2d36e298e073",
   "metadata": {},
   "outputs": [
    {
     "data": {
      "text/plain": [
       "ImposedSentenceAllChargeInContactEvent\n",
       "                    9053\n",
       "0                   4953\n",
       "12                  1404\n",
       ".985626283367556    1051\n",
       "6                    809\n",
       "                    ... \n",
       "11.9055441478439       1\n",
       "35.0061601642711       1\n",
       "46.6242299794661       1\n",
       "81.0225872689938       1\n",
       "202                    1\n",
       "Name: count, Length: 484, dtype: int64"
      ]
     },
     "execution_count": 42,
     "metadata": {},
     "output_type": "execute_result"
    }
   ],
   "source": [
    "# how many blanks we got?\n",
    "imposed_sentence.value_counts()\n",
    "# that's a lot of blanks "
   ]
  },
  {
   "cell_type": "code",
   "execution_count": 53,
   "id": "6f1893c9-c135-4bec-b6ed-41f8f5594f13",
   "metadata": {},
   "outputs": [
    {
     "data": {
      "text/plain": [
       "0        9.0\n",
       "1        NaN\n",
       "2        NaN\n",
       "3        NaN\n",
       "4        4.0\n",
       "        ... \n",
       "22981    4.0\n",
       "22982    9.0\n",
       "22983    4.0\n",
       "22984    4.0\n",
       "22985    4.0\n",
       "Name: SentenceTypeAllChargesAtConvictionInContactEvent, Length: 22986, dtype: float64"
      ]
     },
     "execution_count": 53,
     "metadata": {},
     "output_type": "execute_result"
    }
   ],
   "source": [
    "# i want to see the indexes of where we got those 4s and 9s...\n",
    "# ...because those are values we know for a FACT we should get rid of. \n",
    "# to do this we first put just the 4s and 9s in its own separate data structure.\n",
    "charge_type_col = justice_data[\"SentenceTypeAllChargesAtConvictionInContactEvent\"]\n",
    "charge_is_nan = charge_type_col.where(charge_type_col > 2)\n",
    "charge_is_nan"
   ]
  },
  {
   "cell_type": "code",
   "execution_count": 67,
   "id": "b93db3ac-2db1-47d7-b2f0-a2ebb083ad54",
   "metadata": {},
   "outputs": [
    {
     "data": {
      "text/plain": [
       "[0, 4, 11, 12, 15, 16, 18, 21, 22, 24]"
      ]
     },
     "execution_count": 67,
     "metadata": {},
     "output_type": "execute_result"
    }
   ],
   "source": [
    "# we can put the indices of all values where charges... \n",
    "# ...were 4 or 9 into a list.\n",
    "# we have to drop the spots were NOT 4 or 9 before we can do this. \n",
    "charges_is_nan_1 = charge_is_nan.dropna()\n",
    "# now we create our list \n",
    "charges_is_nan_idxs = charges_is_nan_1.index.to_list()\n",
    "charges_is_nan_idxs[:10] # checking to see if it worked\n",
    "# seems to have worked "
   ]
  },
  {
   "cell_type": "code",
   "execution_count": 69,
   "id": "069e7214-1384-4421-892f-860d688fca37",
   "metadata": {},
   "outputs": [
    {
     "data": {
      "text/html": [
       "<div>\n",
       "<style scoped>\n",
       "    .dataframe tbody tr th:only-of-type {\n",
       "        vertical-align: middle;\n",
       "    }\n",
       "\n",
       "    .dataframe tbody tr th {\n",
       "        vertical-align: top;\n",
       "    }\n",
       "\n",
       "    .dataframe thead th {\n",
       "        text-align: right;\n",
       "    }\n",
       "</style>\n",
       "<table border=\"1\" class=\"dataframe\">\n",
       "  <thead>\n",
       "    <tr style=\"text-align: right;\">\n",
       "      <th></th>\n",
       "      <th>ImposedSentenceAllChargeInContactEvent</th>\n",
       "    </tr>\n",
       "  </thead>\n",
       "  <tbody>\n",
       "    <tr>\n",
       "      <th>0</th>\n",
       "      <td></td>\n",
       "    </tr>\n",
       "    <tr>\n",
       "      <th>4</th>\n",
       "      <td></td>\n",
       "    </tr>\n",
       "    <tr>\n",
       "      <th>11</th>\n",
       "      <td></td>\n",
       "    </tr>\n",
       "    <tr>\n",
       "      <th>12</th>\n",
       "      <td></td>\n",
       "    </tr>\n",
       "    <tr>\n",
       "      <th>15</th>\n",
       "      <td></td>\n",
       "    </tr>\n",
       "    <tr>\n",
       "      <th>...</th>\n",
       "      <td>...</td>\n",
       "    </tr>\n",
       "    <tr>\n",
       "      <th>22981</th>\n",
       "      <td></td>\n",
       "    </tr>\n",
       "    <tr>\n",
       "      <th>22982</th>\n",
       "      <td></td>\n",
       "    </tr>\n",
       "    <tr>\n",
       "      <th>22983</th>\n",
       "      <td></td>\n",
       "    </tr>\n",
       "    <tr>\n",
       "      <th>22984</th>\n",
       "      <td></td>\n",
       "    </tr>\n",
       "    <tr>\n",
       "      <th>22985</th>\n",
       "      <td></td>\n",
       "    </tr>\n",
       "  </tbody>\n",
       "</table>\n",
       "<p>9053 rows × 1 columns</p>\n",
       "</div>"
      ],
      "text/plain": [
       "      ImposedSentenceAllChargeInContactEvent\n",
       "0                                           \n",
       "4                                           \n",
       "11                                          \n",
       "12                                          \n",
       "15                                          \n",
       "...                                      ...\n",
       "22981                                       \n",
       "22982                                       \n",
       "22983                                       \n",
       "22984                                       \n",
       "22985                                       \n",
       "\n",
       "[9053 rows x 1 columns]"
      ]
     },
     "execution_count": 69,
     "metadata": {},
     "output_type": "execute_result"
    }
   ],
   "source": [
    "# given that those are our NaNs, we're gonna see what is seen...\n",
    "# ...at those indices in the 'imposed sentence' column. \n",
    "\n",
    "# let's create a dataframe with just those indices and view...\n",
    "# ...the values in that dataframe. \n",
    "uncleaned_sentences_1 = pd.DataFrame(imposed_sentence[charges_is_nan_idxs])\n",
    "uncleaned_sentences_1\n",
    "# as expected"
   ]
  },
  {
   "cell_type": "code",
   "execution_count": 70,
   "id": "4efc2191-f500-4e05-8f08-7fb3b2efbad2",
   "metadata": {},
   "outputs": [
    {
     "data": {
      "text/plain": [
       "ImposedSentenceAllChargeInContactEvent\n",
       "                                          9053\n",
       "Name: count, dtype: int64"
      ]
     },
     "execution_count": 70,
     "metadata": {},
     "output_type": "execute_result"
    }
   ],
   "source": [
    "# let's double check to see what values we have\n",
    "uncleaned_sentences_1.value_counts()"
   ]
  },
  {
   "cell_type": "code",
   "execution_count": 88,
   "id": "44708859-c64c-49ad-a7e9-793257a480ae",
   "metadata": {},
   "outputs": [
    {
     "data": {
      "text/plain": [
       "0                99999999\n",
       "1                      60\n",
       "2                      12\n",
       "3        .985626283367556\n",
       "4                99999999\n",
       "               ...       \n",
       "22981            99999999\n",
       "22982            99999999\n",
       "22983            99999999\n",
       "22984            99999999\n",
       "22985            99999999\n",
       "Name: ImposedSentenceAllChargeInContactEvent, Length: 22986, dtype: object"
      ]
     },
     "execution_count": 88,
     "metadata": {},
     "output_type": "execute_result"
    }
   ],
   "source": [
    "# we will purge all string the values in our dataframe with the indices...\n",
    "# ...where we have NaNs.\n",
    "# (i'm putting a 99999999 there as a placeholder at first because...\n",
    "# ...i have other code i want to run later where i want to see where...\n",
    "# ...i create NaNs as a result of coercion.)\n",
    "# (...i will change it to an NaN later)\n",
    "justice_data.loc[charges_is_nan_idxs,\"ImposedSentenceAllChargeInContactEvent\"] = 99999999\n",
    "# let's see if that worked.\n",
    "justice_data[\"ImposedSentenceAllChargeInContactEvent\"]\n",
    "# seems so! "
   ]
  },
  {
   "cell_type": "code",
   "execution_count": 100,
   "id": "51cc45e7-0eba-4b87-b4b7-7383fdc6a6d6",
   "metadata": {},
   "outputs": [
    {
     "data": {
      "text/html": [
       "<div>\n",
       "<style scoped>\n",
       "    .dataframe tbody tr th:only-of-type {\n",
       "        vertical-align: middle;\n",
       "    }\n",
       "\n",
       "    .dataframe tbody tr th {\n",
       "        vertical-align: top;\n",
       "    }\n",
       "\n",
       "    .dataframe thead th {\n",
       "        text-align: right;\n",
       "    }\n",
       "</style>\n",
       "<table border=\"1\" class=\"dataframe\">\n",
       "  <thead>\n",
       "    <tr style=\"text-align: right;\">\n",
       "      <th></th>\n",
       "      <th>ImposedSentenceAllChargeInContactEvent</th>\n",
       "    </tr>\n",
       "  </thead>\n",
       "  <tbody>\n",
       "  </tbody>\n",
       "</table>\n",
       "</div>"
      ],
      "text/plain": [
       "Empty DataFrame\n",
       "Columns: [ImposedSentenceAllChargeInContactEvent]\n",
       "Index: []"
      ]
     },
     "execution_count": 100,
     "metadata": {},
     "output_type": "execute_result"
    }
   ],
   "source": [
    "# let's see if we can coerce all of our remaining values as...\n",
    "# ...numeric values now. \n",
    "justice_data[\"ImposedSentenceAllChargeInContactEvent\"] = pd.to_numeric(justice_data[\"ImposedSentenceAllChargeInContactEvent\"], errors=\"coerce\")\n",
    "# where do we have NaNs as a result of coercion? that will help us know...\n",
    "# ...whether we have string-like values beyond the spaces that were put as...\n",
    "# ...placeholders at our locations for the missing values in the sentence type...\n",
    "# ...column. \n",
    "\n",
    "# first, create a data structure where we have 'true' or 'false' depending on...\n",
    "# ...whether we have an NaN at that index of the dataframe for imposed sentence...\n",
    "# ...data. \n",
    "where_nans_cleaned_data = justice_data[\"ImposedSentenceAllChargeInContactEvent\"].isna()\n",
    "# where is 'is na' == True? \n",
    "where_nans_cleaned_data = where_nans_cleaned_data.where(where_nans_cleaned_data == True)\n",
    "# dropping parts where where_nans_cleaned_data == False\n",
    "where_nans_cleaned_data = where_nans_cleaned_data.dropna()\n",
    "# viewing where_nans_cleaned_data\n",
    "where_nans_cleaned_data = pd.DataFrame(where_nans_cleaned_data)\n",
    "where_nans_cleaned_data\n",
    "# there is nothing yay! \n",
    "\n",
    "# that means that the only string-like values in our original imposed...\n",
    "# ...sentences column were those spaces that we cleaned up at first. "
   ]
  },
  {
   "cell_type": "code",
   "execution_count": 101,
   "id": "a7218920-1ff9-49e1-b624-9c24dcc4fbea",
   "metadata": {},
   "outputs": [
    {
     "data": {
      "text/plain": [
       "0              NaN\n",
       "1        60.000000\n",
       "2        12.000000\n",
       "3         0.985626\n",
       "4              NaN\n",
       "           ...    \n",
       "22981          NaN\n",
       "22982          NaN\n",
       "22983          NaN\n",
       "22984          NaN\n",
       "22985          NaN\n",
       "Name: ImposedSentenceAllChargeInContactEvent, Length: 22986, dtype: float64"
      ]
     },
     "execution_count": 101,
     "metadata": {},
     "output_type": "execute_result"
    }
   ],
   "source": [
    "# we will now change those 99999999 placeholder values...\n",
    "# ...back to NaNs \n",
    "justice_data.loc[charges_is_nan_idxs,\"ImposedSentenceAllChargeInContactEvent\"] = np.nan\n",
    "justice_data[\"ImposedSentenceAllChargeInContactEvent\"]\n",
    "# there we go "
   ]
  },
  {
   "cell_type": "code",
   "execution_count": null,
   "id": "c0b6d34f-e2ad-449e-a21d-8b1de8164a21",
   "metadata": {},
   "outputs": [],
   "source": [
    "# we could go further with the data cleaning by purging outliers but...\n",
    "# ...i have only so much time, and much work to do :) "
   ]
  },
  {
   "cell_type": "markdown",
   "id": "5a60a44e",
   "metadata": {},
   "source": [
    "**Q2.** Go to https://sharkattackfile.net/ and download their dataset on shark attacks.\n",
    "\n",
    "1. ~~Open the shark attack file using Pandas. It is probably not a csv file, so `read_csv` won't work.~~\n",
    "2. ~~Drop any columns that do not contain data.~~\n",
    "3. ~~Clean the year variable. Describe the range of values you see. Filter the rows to focus on attacks since 1940. Are attacks increasing, decreasing, or remaining constant over time?~~\n",
    "4. ~~Clean the Age variable and make a histogram of the ages of the victims.~~\n",
    "5. ~~What proportion of victims are male?~~\n",
    "6. ~~Clean the `Type` variable so it only takes three values: Provoked and Unprovoked and Unknown. What proportion of attacks are unprovoked?~~\n",
    "~~7. Clean the `Fatal Y/N` variable so it only takes three values: Y, N, and Unknown.~~\n",
    "8. ~~Are sharks more likely to launch unprovoked attacks on men or women? Is the attack more or less likely to be fatal when the attack is provoked or unprovoked? Is it more or less likely to be fatal when the victim is male or female? How do you feel about sharks?~~\n",
    "9. ~~What proportion of attacks appear to be by white sharks? (Hint: `str.split()` makes a vector of text values into a list of lists, split by spaces.)~~"
   ]
  },
  {
   "cell_type": "markdown",
   "id": "8fabdec6-4096-4b6f-8057-0d9ae56aa7dc",
   "metadata": {},
   "source": [
    "### Question 2, Part 1"
   ]
  },
  {
   "cell_type": "code",
   "execution_count": null,
   "id": "56b94c30-3f38-4b2b-91a8-5c73dc1c912e",
   "metadata": {},
   "outputs": [],
   "source": [
    "!pip install xlrd"
   ]
  },
  {
   "cell_type": "code",
   "execution_count": null,
   "id": "963b99a6-aa56-4001-b66e-4fbdae3736ef",
   "metadata": {},
   "outputs": [],
   "source": [
    "# https://pandas.pydata.org/docs/reference/api/pandas.read_excel.html\n",
    "shark_data = pd.read_excel(\"./data/wrangling/GSAF5.xls\") \n",
    "shark_data.head()"
   ]
  },
  {
   "cell_type": "markdown",
   "id": "0e79fadc-6e5c-4ce9-9ac5-68c43da0a229",
   "metadata": {},
   "source": [
    "### Question 2, Part 2"
   ]
  },
  {
   "cell_type": "code",
   "execution_count": null,
   "id": "116da248-bfbe-44ef-be2c-a87b50944b7f",
   "metadata": {},
   "outputs": [],
   "source": [
    "# 'get rid of any columns that don't contain data' \n",
    "# this line of code is from GOOGLE'S STUPID CLANKER\n",
    "empty_cols = [col for col in shark_data.columns if shark_data[col].isnull().all()]\n",
    "empty_cols\n",
    "\n",
    "# we have no truly empty columns it seems? \n",
    "# a few useless ones but that's different than them being empty. \n",
    "\n",
    "# when i asked in class, the professor said that there were hundreds of \n",
    "# empty columns so i guess those weren't even imported. "
   ]
  },
  {
   "cell_type": "markdown",
   "id": "abef6f72-5fe3-44ec-bac8-16a458e39230",
   "metadata": {},
   "source": [
    "### Question 2, Part 3"
   ]
  },
  {
   "cell_type": "code",
   "execution_count": null,
   "id": "c237d39a-891d-4c94-957c-fde1a9322945",
   "metadata": {},
   "outputs": [],
   "source": [
    "# let's see the kinds of years we have in the data \n",
    "shark_data['Year'].value_counts()\n",
    "# what do you MEAN year zero or year five\n",
    "# i see a WIDE range of values. like, years you could actually get data for...\n",
    "# ...and also stuff that is probably written on freaking CUNEIFORM tablets \n",
    "# year ZERO???????"
   ]
  },
  {
   "cell_type": "code",
   "execution_count": null,
   "id": "5afcb1fd-65ac-49b4-b2e6-3cbe7c3019bf",
   "metadata": {},
   "outputs": [],
   "source": [
    "# check if all the values are numeric \n",
    "print(type(shark_data['Year'][0]))\n",
    "# huzzah they are numbers! "
   ]
  },
  {
   "cell_type": "code",
   "execution_count": null,
   "id": "98915800-44a6-4deb-8c3e-3a09bc7b2d90",
   "metadata": {},
   "outputs": [],
   "source": [
    "# let's try to plot it to verify they're all numbers (again) \n",
    "plt.hist(shark_data['Year'])\n",
    "# yep\n",
    "# now we just get rid of numbers that are of no use to us"
   ]
  },
  {
   "cell_type": "code",
   "execution_count": null,
   "id": "6455628e-3984-44de-87b5-43720d7b1d63",
   "metadata": {},
   "outputs": [],
   "source": [
    "# filtering shark data to be only years 1940 or after. \n",
    "shark_data['Year'] = shark_data['Year'].where(shark_data['Year'] >= 1940)"
   ]
  },
  {
   "cell_type": "code",
   "execution_count": null,
   "id": "03100e05-7ed4-4d19-a771-5452d1b73e87",
   "metadata": {},
   "outputs": [],
   "source": [
    "# plotting our final histogram \n",
    "plt.hist(shark_data['Year'], bins=30, color=\"#33aaee\")\n",
    "\n",
    "# setting x and y axes\n",
    "plt.xlabel(\"Year\")\n",
    "plt.ylabel(\"Number of attacks\") \n",
    "\n",
    "# title \n",
    "plt.title(\"Shark attacks appear to increase as years pass\", loc=\"left\")\n",
    "\n",
    "# despining our graph after torturing the data til it screams\n",
    "plt.rcParams['axes.spines.right'] = False\n",
    "plt.rcParams['axes.spines.top'] = False\n",
    "# ^ these are universal parameters! \n",
    "\n",
    "plt.show()\n",
    "\n",
    "# seems to be an increase but i don't know if i would...\n",
    "# ...attribute that to a greater number of shark attacks as much as...\n",
    "# ...better data collection methods that allow us to register more shark attacks. "
   ]
  },
  {
   "cell_type": "markdown",
   "id": "c6876452-a66d-4b6b-bf24-141b433da54a",
   "metadata": {},
   "source": [
    "### Question 2, Part 4"
   ]
  },
  {
   "cell_type": "code",
   "execution_count": null,
   "id": "7ebf5d9b-c17f-492f-a1d2-242045cb991c",
   "metadata": {},
   "outputs": [],
   "source": [
    "# taking a look at all of our non-NaN values of the age column...\n",
    "# ...so we can focus on cleaning those. \n",
    "all_age_entries = shark_data['Age'].dropna()\n",
    "all_age_entries\n",
    "# '13 or 14' are you SERIOUS "
   ]
  },
  {
   "cell_type": "code",
   "execution_count": null,
   "id": "8b397143-9db0-45a3-aa99-688ee1945748",
   "metadata": {},
   "outputs": [],
   "source": [
    "# coercing all non-NaN ages to numbers. \n",
    "# putting the resulting data structure into a separate data structure. \n",
    "# later, we will check the NaNs in THIS data structure... \n",
    "# ...and see where they are to see where all the values that could... \n",
    "# ...NOT be coerced to NaNs are.\n",
    "coerced_atk_age = pd.to_numeric(all_age_entries, errors=\"coerce\")\n",
    "coerced_atk_age.head(3)"
   ]
  },
  {
   "cell_type": "code",
   "execution_count": null,
   "id": "f1e78658-d840-4778-856f-b4ad377ec3b6",
   "metadata": {},
   "outputs": [],
   "source": [
    "# created a dataframe that shows whether or not...\n",
    "# ...'coerced_atk_age' is an NaN at a given index. \n",
    "# The indices at which we have Trues are the indices...\n",
    "# ...at which the values could not be coerced. \n",
    "is_it_nan_ages = pd.DataFrame(coerced_atk_age.isna())\n",
    "is_it_nan_ages.head()"
   ]
  },
  {
   "cell_type": "code",
   "execution_count": null,
   "id": "95073554-0cc9-4b25-b0c1-61bcb37f0587",
   "metadata": {},
   "outputs": [],
   "source": [
    "# we're gonna create a data structure that includes ONLY \n",
    "# the indices of where there are NaNs, and the value \"True\".  \n",
    "it_is_nan_ages = is_it_nan_ages.where(is_it_nan_ages.Age == True)\n",
    "it_is_nan_ages = it_is_nan_ages.dropna()\n",
    "# help is from: https://www.geeksforgeeks.org/search-a-pandas-column-for-a-value/\n",
    "\n",
    "# ...we can turn the indices into a list. \n",
    "# this will tell us the indices of non-coercable values in shark[\"Age\"]. \n",
    "\n",
    "### CHATGPT HELPED ME WITH THIS LINE OF CODE. THIS IS CHATGPT'S DOING ###\n",
    "## well actually it helped me with it on a prior problem but i'm re-appropriating it ## \n",
    "nans_ages_idx_list = it_is_nan_ages.index.tolist()\n",
    "print(nans_ages_idx_list)"
   ]
  },
  {
   "cell_type": "code",
   "execution_count": null,
   "id": "103cc3d3-d6b2-43e5-bedf-e87a795a64e9",
   "metadata": {},
   "outputs": [],
   "source": [
    "# creating a dataframe to view those non-coercable values...\n",
    "uncleaned_ages_1 = pd.DataFrame(all_age_entries[nans_ages_idx_list])\n",
    "uncleaned_ages_1\n",
    "# seems like i want to purge any question marks and turn them into NaNs, turn \"half\" values into floats...\n",
    "# ...also eliminate any \"or\" values or \"Teen\" or what have you. basically values that are vague. "
   ]
  },
  {
   "cell_type": "code",
   "execution_count": null,
   "id": "1c3a9279-7726-47ab-826a-f1ebee132723",
   "metadata": {},
   "outputs": [],
   "source": [
    "# it's worth exploring if we can see patterns in these messy pieces of data. \n",
    "uncleaned_ages_1.value_counts()\n",
    "# 'A MINOR' WHAT DO YOU M E A N "
   ]
  },
  {
   "cell_type": "code",
   "execution_count": null,
   "id": "77bc3f1f-02c4-4b44-870d-de90b8af14ed",
   "metadata": {},
   "outputs": [],
   "source": [
    "# gotta lowercase ones that are like 'teen' because i'm sure that there...\n",
    "# ...are upper AND lowercase values like that!\n",
    "# https://www.geeksforgeeks.org/how-to-lowercase-column-names-in-pandas-dataframe/\n",
    "uncleaned_ages_1['Age'] = uncleaned_ages_1['Age'].str.lower()\n",
    "# we want to take a look at the stuff we're trying to clean \n",
    "uncleaned_ages_1.value_counts()"
   ]
  },
  {
   "cell_type": "code",
   "execution_count": null,
   "id": "b903e3c7-6407-4ed2-ab61-c2008e8265d6",
   "metadata": {},
   "outputs": [],
   "source": [
    "# bruh \n",
    "# guess our work isn't finished\n",
    "MORE_VALUES_TO_PURGE = uncleaned_ages_1['Age'].to_list()\n",
    "# no real data scientist would do what i'm about to do below. manual viewing of data!\n",
    "MORE_VALUES_TO_PURGE[1:10]"
   ]
  },
  {
   "cell_type": "code",
   "execution_count": null,
   "id": "cd906c73-b771-485c-904e-886668c43454",
   "metadata": {},
   "outputs": [],
   "source": [
    "# the suffering ends here. \n",
    "# i decided that i give up\n",
    "# im just gonna like, keep the coerced data lol \n",
    "\n",
    "# only decided to keep all the useless work i did \n",
    "# to demonstrate that i was indeed willing to suffer that much \n",
    "\n",
    "shark_data[\"Age\"] = pd.to_numeric(shark_data[\"Age\"], errors=\"coerce\")"
   ]
  },
  {
   "cell_type": "code",
   "execution_count": null,
   "id": "38b4439b-1b30-4956-9a29-97994fcbe7b5",
   "metadata": {},
   "outputs": [],
   "source": [
    "# creating our histogram \n",
    "plt.hist(shark_data['Age'], bins=20, color=\"#55aaee\")\n",
    "\n",
    "# axis labels and titles! \n",
    "plt.xlabel(\"Age in years\")\n",
    "plt.ylabel(\"Quantity of victims\") \n",
    "plt.title(\"Shark attack victims tend to be closer to their 20s\", loc=\"left\")\n",
    "\n",
    "# the despining parameter we've set earlier is universal so lucky us!"
   ]
  },
  {
   "cell_type": "code",
   "execution_count": null,
   "id": "ed5c6d49-96ff-4a6e-a3a7-d45ed4db6e7e",
   "metadata": {},
   "outputs": [],
   "source": [
    "# all the torment that i went through would be helpful if i wished to, say:\n",
    "    # turn the rows with multiple age values in them into multiple rows \n",
    "        # (each row representing one victim of the same attack)\n",
    "    # turn values like '2 1/2' to values like '2.5'\n",
    "        # so that they are readable by the machine as numbers. \n",
    "        # this will make our values in our age column numeric but not all integers. \n",
    "    # removed the '!' before some numbers because what were those even doing there\n",
    "\n",
    "# but i was given the ok to just coerce everything to a number or an NaN, so... \n",
    "# ...i'm not wasting my time. "
   ]
  },
  {
   "cell_type": "markdown",
   "id": "6901efbc-b365-41aa-9836-01ab97c9a36a",
   "metadata": {},
   "source": [
    "### Question 2, Part 5"
   ]
  },
  {
   "cell_type": "code",
   "execution_count": null,
   "id": "3f40ff64-4b13-44dc-9a16-9bfde2270361",
   "metadata": {},
   "outputs": [],
   "source": [
    "# we're gonna observe what's in this column. \n",
    "shark_data[\"Sex\"].value_counts()"
   ]
  },
  {
   "cell_type": "code",
   "execution_count": null,
   "id": "67f67fc8-9bf5-42d0-9b21-238189a8105b",
   "metadata": {},
   "outputs": [],
   "source": [
    "# we're gonna append a duplicate row for the second male victim in \n",
    "# the M x 2 row. \n",
    "# we're gonna get rid of the \"x 2\" later but we want to ensure the... \n",
    "# ...Other Guy is counted. \n",
    "that_one_guy = shark_data.loc[3628].copy()\n",
    "# ^ managed to remember what the index was from when...\n",
    "# i first attempted to replicate the row. \n",
    "# (this data cleaning endeavour is an iterative process) \n",
    "\n",
    "# in accordance with the advice of chatgpt, turning that_one_guy into a dataframe \n",
    "that_one_guy = pd.DataFrame([that_one_guy])\n",
    "\n",
    "# concacenating that dataframe to our master dataframe as a new row\n",
    "shark_data = pd.concat([shark_data, that_one_guy], ignore_index=True)"
   ]
  },
  {
   "cell_type": "code",
   "execution_count": null,
   "id": "e0ab1e6f-8c89-4a3a-9772-e2740b9ab724",
   "metadata": {},
   "outputs": [],
   "source": [
    "# cool, i've successfully added that row.\n",
    "# let's double check. \n",
    "shark_data[\"Sex\"].value_counts()"
   ]
  },
  {
   "cell_type": "code",
   "execution_count": null,
   "id": "1320e75c-5df7-45c0-9db0-ac5222ac7a67",
   "metadata": {
    "scrolled": true
   },
   "outputs": [],
   "source": [
    "# cleaning unnecessary values\n",
    "# spaces need to be purged. \n",
    "# that way \"M \" can just be \"M\" and counted with other \"M\"s\n",
    "shark_data[\"Sex\"] = shark_data[\"Sex\"].str.replace(' ', '')\n",
    "shark_data[\"Sex\"].value_counts()"
   ]
  },
  {
   "cell_type": "code",
   "execution_count": null,
   "id": "68236e06-0646-4480-a166-2dd9ca1a14a8",
   "metadata": {},
   "outputs": [],
   "source": [
    "# ., N, and lli were not sexes the last time i checked\n",
    "# let's get rid of those \n",
    "shark_data[\"Sex\"] = shark_data[\"Sex\"].replace([\"N\", \"lli\", \".\"], np.nan)\n",
    "shark_data[\"Sex\"].value_counts()"
   ]
  },
  {
   "cell_type": "code",
   "execution_count": null,
   "id": "54201eb6-b517-485d-b66c-8db511bf5f36",
   "metadata": {},
   "outputs": [],
   "source": [
    "# i'm just gonna take off the x2 on the Mx2. \n",
    "# since now i have data for both of the dudes in that row!  \n",
    "shark_data[\"Sex\"] = shark_data[\"Sex\"].str.replace('x2', '')"
   ]
  },
  {
   "cell_type": "code",
   "execution_count": null,
   "id": "d40a2de8-7238-434e-8d42-e41244293a6e",
   "metadata": {},
   "outputs": [],
   "source": [
    "# did this work\n",
    "shark_data[\"Sex\"].value_counts()"
   ]
  },
  {
   "cell_type": "code",
   "execution_count": null,
   "id": "0cab6dea-90f7-46e0-ab9a-d97ebc8b1f26",
   "metadata": {},
   "outputs": [],
   "source": [
    "# YEAHHHHH\n",
    "# let's see how stupid men are now\n",
    "print(f\"{(5618/len(shark_data))*100}% of shark attack victims are male.\")"
   ]
  },
  {
   "cell_type": "markdown",
   "id": "26fbc6f7-b3e2-4452-87ee-52dd2f5cdffd",
   "metadata": {},
   "source": [
    "### Question 2, Part 6"
   ]
  },
  {
   "cell_type": "code",
   "execution_count": null,
   "id": "5ea0638b-7de7-41eb-b7f7-e6558b494e0f",
   "metadata": {},
   "outputs": [],
   "source": [
    "# here we go again \n",
    "# looking at value counts of type \n",
    "shark_data[\"Type\"].value_counts()\n",
    "# 'sea disaster' this fills me with the primordial rage of captain ahab \n",
    "# (i havent read moby dick) "
   ]
  },
  {
   "cell_type": "code",
   "execution_count": null,
   "id": "4b0fc6bc-0a6b-42b6-b667-10dace10498a",
   "metadata": {},
   "outputs": [],
   "source": [
    "# stuff like 'uncomfirmed', 'unverified', etc. is unknown. \n",
    "# i have NO IDEA what was meant by stuff like 'questionable' or 'invalid', so i presume those are lost to history.\n",
    "# therefore they're unknowns as well. \n",
    "# also we don't know if the boat attacks etc. were provoked\n",
    "replaceables = [\"Unconfirmed\", \"?\", \"Unverified\", \"Under investigation\", \"Questionable\", \"Invalid\", \"Boat\", \"Sea Disaster\", \"Watercraft\"]\n",
    "# https://www.geeksforgeeks.org/how-to-replace-values-in-column-based-on-condition-in-pandas/\n",
    "# https://saturncloud.io/blog/how-to-replace-column-values-in-a-pandas-dataframe/\n",
    "# https://www.geeksforgeeks.org/python-pandas-dataframe-replace/\n",
    "shark_data[\"Type\"] = shark_data[\"Type\"].replace(replaceables, value='Unknown')"
   ]
  },
  {
   "cell_type": "code",
   "execution_count": null,
   "id": "7d7ec73a-d080-44dd-9a5a-0aafe7d6763f",
   "metadata": {},
   "outputs": [],
   "source": [
    "# what do we have left? \n",
    "shark_data[\"Type\"].value_counts()"
   ]
  },
  {
   "cell_type": "code",
   "execution_count": null,
   "id": "cc0855a5-5170-4c64-821b-1413eaa35311",
   "metadata": {},
   "outputs": [],
   "source": [
    "# getting rid of ' provoked' extra space \n",
    "shark_data[\"Type\"] = shark_data[\"Type\"].str.replace(\" \", \"\")\n",
    "# let's see what we got\n",
    "shark_data[\"Type\"].value_counts()"
   ]
  },
  {
   "cell_type": "code",
   "execution_count": null,
   "id": "8992ed09-7d7e-4be5-816a-3ad89c1f1f07",
   "metadata": {},
   "outputs": [],
   "source": [
    "# proportion of unprovoked attacks \n",
    "5153/(len(shark_data[\"Type\"]))\n",
    "# the majority are known to be unprovoked. "
   ]
  },
  {
   "cell_type": "markdown",
   "id": "176c54d3-0ca0-42fd-a0e4-d96089eb2ce9",
   "metadata": {},
   "source": [
    "### Question 2, Part 7"
   ]
  },
  {
   "cell_type": "code",
   "execution_count": null,
   "id": "36ff1833-f666-4bc1-ac4a-4a7959f9a5a7",
   "metadata": {},
   "outputs": [],
   "source": [
    "# well well well what have we got here\n",
    "# (checking our data)\n",
    "shark_data['Fatal Y/N'].head()"
   ]
  },
  {
   "cell_type": "code",
   "execution_count": null,
   "id": "99aac50e-ec76-4e11-b2a3-1650cc23b8f7",
   "metadata": {},
   "outputs": [],
   "source": [
    "# let's see what values we have. \n",
    "shark_data['Fatal Y/N'].value_counts()"
   ]
  },
  {
   "cell_type": "code",
   "execution_count": null,
   "id": "32f86437-4a56-4805-8f54-73a2db64528f",
   "metadata": {},
   "outputs": [],
   "source": [
    "# seems like we have issues with 1) capitalisation, and 2) spaces. \n",
    "shark_data['Fatal Y/N'] = shark_data['Fatal Y/N'].str.upper()\n",
    "shark_data['Fatal Y/N'] = shark_data['Fatal Y/N'].str.replace(\" \", \"\")\n",
    "shark_data['Fatal Y/N'].value_counts()"
   ]
  },
  {
   "cell_type": "code",
   "execution_count": null,
   "id": "c8061e1d-9c3b-4228-9318-c43519d89b37",
   "metadata": {},
   "outputs": [],
   "source": [
    "# now we replace our unknown values with NaNs\n",
    "replaceables = [\"UNKNOWN\", \"M\", \"NQ\", \"F\"]\n",
    "shark_data['Fatal Y/N'] = shark_data['Fatal Y/N'].replace(replaceables, value=np.nan)\n",
    "shark_data['Fatal Y/N'].value_counts()"
   ]
  },
  {
   "cell_type": "code",
   "execution_count": null,
   "id": "33383211-9acd-4175-acd3-54d468b5ab81",
   "metadata": {},
   "outputs": [],
   "source": [
    "# we gotta see what we wanna do with that Yx2 guy \n",
    "y_little_guy = shark_data['Fatal Y/N'].where(shark_data['Fatal Y/N'] == \"YX2\")\n",
    "y_little_guy = y_little_guy.dropna()\n",
    "y_little_guy\n",
    "# index to correspond to the row with the two male victims. \n",
    "# so we can just, clean out the x2 like we did with the two male victims "
   ]
  },
  {
   "cell_type": "code",
   "execution_count": null,
   "id": "179fc60b-5c93-42fc-a7a5-716d636f4f06",
   "metadata": {},
   "outputs": [],
   "source": [
    "shark_data['Fatal Y/N']= shark_data['Fatal Y/N'].str.replace('X2', '')\n",
    "shark_data['Fatal Y/N'].value_counts()"
   ]
  },
  {
   "cell_type": "code",
   "execution_count": null,
   "id": "92b8206e-f73b-4689-97c9-ef435ee07775",
   "metadata": {},
   "outputs": [],
   "source": [
    "# we want our NaNs to be 'unknown'\n",
    "shark_data['Fatal Y/N'] = shark_data['Fatal Y/N'].replace(np.nan, \"Unknown\")\n",
    "shark_data['Fatal Y/N'].value_counts()\n",
    "# yay"
   ]
  },
  {
   "cell_type": "markdown",
   "id": "7bf75edb-7ef1-405f-a50f-56e28b08ea84",
   "metadata": {},
   "source": [
    "### Question 2, Part 8"
   ]
  },
  {
   "cell_type": "markdown",
   "id": "b588481f-1ebf-49e4-9a22-51fa9fb42094",
   "metadata": {},
   "source": [
    "Are men or women more likely to be attacked unprovoked? "
   ]
  },
  {
   "cell_type": "code",
   "execution_count": null,
   "id": "080c2043-a5d8-4783-a0e3-28d15b817f21",
   "metadata": {},
   "outputs": [],
   "source": [
    "# to answer this question, we'd need to cross tabulate...\n",
    "# ...sex with attack type\n",
    "pd.crosstab(shark_data[\"Type\"], shark_data[\"Sex\"])"
   ]
  },
  {
   "cell_type": "code",
   "execution_count": null,
   "id": "482c9768-93f0-483c-967c-278bc25a1070",
   "metadata": {},
   "outputs": [],
   "source": [
    "# nice, now we can look at the probability you are...\n",
    "# ...attacked unprovoked given that you are a man...\n",
    "# ...and also the probability that you are attacked unprovoked...\n",
    "# ...given that you are a woman.\n",
    "p_m_unprovoked = 4313/(4314+548)\n",
    "p_f_unprovoked = 670/(670+31)\n",
    "print(f\"The probability you will be attacked unprovoked if you are a man is {p_m_unprovoked}.\")\n",
    "print(f\"The probability you will be attacked unprovoked if you are a woman is {p_f_unprovoked}.\")"
   ]
  },
  {
   "cell_type": "code",
   "execution_count": null,
   "id": "6cb9f8aa-688d-4a14-92da-4540d29f9492",
   "metadata": {},
   "outputs": [],
   "source": [
    "# seems more likely that you will be attacked unprovoked if you are a woman. \n",
    "# i made the decision to purge unknowns because they just like...\n",
    "# ...all they do is mess up our data. we can only act on what we know."
   ]
  },
  {
   "cell_type": "markdown",
   "id": "2f3c18c4-3195-4fc0-be31-3d311ac90180",
   "metadata": {},
   "source": [
    "Is the attack more or less likely to be fatal when the attack is provoked or unprovoked?"
   ]
  },
  {
   "cell_type": "code",
   "execution_count": null,
   "id": "4d8595ab-f5f8-44fa-a668-440f8cb49774",
   "metadata": {},
   "outputs": [],
   "source": [
    "# i guess we're going cross-tabulating (again) now\n",
    "# cross tabulating with attack type and fatality \n",
    "pd.crosstab(shark_data[\"Type\"], shark_data[\"Fatal Y/N\"])"
   ]
  },
  {
   "cell_type": "code",
   "execution_count": null,
   "id": "382b398f-4173-48e2-a581-15cf6c1c2cc8",
   "metadata": {},
   "outputs": [],
   "source": [
    "# nice, now we can look at the probability you are...\n",
    "# ...dead unprovoked given that you were attacked unprovoked...\n",
    "# ...and also the probability that you are dead if attacked provoked.\n",
    "\n",
    "p_fatal_unprovoked = 1252/(21+1252)\n",
    "p_fatal_provoked = (1252)/(3823+1252)\n",
    "print(f\"The probability you will be killed if attacked provoked is {p_m_unprovoked}.\")\n",
    "print(f\"The probability you will be killed if attacked unprovoked is {p_f_unprovoked}.\")"
   ]
  },
  {
   "cell_type": "code",
   "execution_count": null,
   "id": "03728a0e-2833-47eb-919e-75c03ee44c4e",
   "metadata": {},
   "outputs": [],
   "source": [
    "# you are more likely to be killed if the attack is unprovoked. "
   ]
  },
  {
   "cell_type": "markdown",
   "id": "fa05e349-c7fe-4e85-92c2-ed89a890af25",
   "metadata": {},
   "source": [
    "Is it more or less likely to be fatal when the victim is male or female?"
   ]
  },
  {
   "cell_type": "code",
   "execution_count": null,
   "id": "bd96c2f4-a93e-4957-97cb-83d1763c7319",
   "metadata": {},
   "outputs": [],
   "source": [
    "# you know the drill\n",
    "# crosstab\n",
    "pd.crosstab(shark_data[\"Sex\"], shark_data[\"Fatal Y/N\"])"
   ]
  },
  {
   "cell_type": "code",
   "execution_count": null,
   "id": "47469e79-5605-499e-8d59-94d0e94fd574",
   "metadata": {},
   "outputs": [],
   "source": [
    "# p(fatal | male) vs. p(fatal | female)\n",
    "p_m_dead = 1242/(1242+3917)\n",
    "p_f_dead = 120/(602+120)\n",
    "print(f\"The probability you will die of the attack if you are a man is {p_m_dead}.\")\n",
    "print(f\"The probability you will die of the attack if you are a woman is {p_f_dead}.\")"
   ]
  },
  {
   "cell_type": "code",
   "execution_count": null,
   "id": "d77ed9a2-f0b8-4307-a34c-ceeb86944a66",
   "metadata": {},
   "outputs": [],
   "source": [
    "# shark attacks seem more fatal for men than they do for women"
   ]
  },
  {
   "cell_type": "markdown",
   "id": "8db9b46a-bba9-42ad-af3b-d2f142bfb348",
   "metadata": {},
   "source": [
    "How do you feel about sharks? "
   ]
  },
  {
   "cell_type": "code",
   "execution_count": null,
   "id": "8bbf2fc2-44af-4938-a43c-cb6f0a15e042",
   "metadata": {},
   "outputs": [],
   "source": [
    "# i actually like sharks a lot, and i think the best course of action...\n",
    "# ...is to be cognizant about the danger that they may pose. \n",
    "# they are likely more afraid of you than you are of them and they...\n",
    "# ...cannot help but act in self defence. "
   ]
  },
  {
   "cell_type": "markdown",
   "id": "b848ca75-3822-44c2-aece-6e22d4559375",
   "metadata": {},
   "source": [
    "### Question 2, Part 9"
   ]
  },
  {
   "cell_type": "markdown",
   "id": "a90a725d-beef-4ba6-8a27-6e36853e776a",
   "metadata": {},
   "source": [
    "9. What proportion of attacks appear to be by white sharks? (Hint: `str.split()` makes a vector of text values into a list of lists, split by spaces.)"
   ]
  },
  {
   "cell_type": "code",
   "execution_count": null,
   "id": "f5a869bd-8fcb-41f0-874f-03e775058da9",
   "metadata": {},
   "outputs": [],
   "source": [
    "# IT'S NOT LETTING ME VIEW THE FREAKING SPECIES COLUMN\n",
    "# you know what that means\n",
    "shark_data.columns\n",
    "# yep. what's new. there's a space"
   ]
  },
  {
   "cell_type": "code",
   "execution_count": null,
   "id": "d2b70d7c-12b0-4e08-9333-602861918d09",
   "metadata": {},
   "outputs": [],
   "source": [
    "# yep. now we can feel content to use this column \n",
    "# let's lowercase everything before we split. \n",
    "shark_species_lower = shark_data[\"Species \"].str.lower()\n",
    "shark_species_lower.head()"
   ]
  },
  {
   "cell_type": "code",
   "execution_count": null,
   "id": "4198d0da-8fbe-4816-9d1e-5105ec6e5080",
   "metadata": {},
   "outputs": [],
   "source": [
    "# time to split the strings into a list!\n",
    "shark_species_split = shark_species_lower.str.split()\n",
    "shark_species_split.head()"
   ]
  },
  {
   "cell_type": "code",
   "execution_count": null,
   "id": "cc9d4184-6733-444d-80b8-83ad93536bae",
   "metadata": {},
   "outputs": [],
   "source": [
    "# finding item in list for a list of lists. \n",
    "# https://www.geeksforgeeks.org/python-check-if-element-exists-in-list-of-lists/\n",
    "# i'm running out of time so i had to resort to chatgpt for this code chunk\n",
    "# i'm not gonna lie, the answer was really intuitive so idk why i did that\n",
    "target = \"white\"\n",
    "white_sharks = []\n",
    "for sublist in shark_species_split:\n",
    "    if isinstance(sublist, list) and target in sublist:\n",
    "        white_sharks.append(sublist)\n",
    "# let's see the length of our list  \n",
    "white_sharks = len(white_sharks)\n",
    "print(white_sharks)"
   ]
  },
  {
   "cell_type": "code",
   "execution_count": null,
   "id": "bd3e9880-07ce-4469-b263-61bb42ed69bc",
   "metadata": {},
   "outputs": [],
   "source": [
    "# let's look at the proportion of sharks that are white sharks \n",
    "shark_no_na = shark_data[\"Species \"].dropna()\n",
    "all_sharks = len(shark_no_na)\n",
    "print(f\"the proportion of shark attacks that come from white sharks is {white_sharks/all_sharks}\")"
   ]
  },
  {
   "cell_type": "code",
   "execution_count": null,
   "id": "f8cff7d9-e616-4a85-9f48-d30383440ff3",
   "metadata": {},
   "outputs": [],
   "source": [
    "# i could take this a step further by using regex to find...\n",
    "# ...any words that resemble or include 'white'...\n",
    "# ...but i only have so much time to do my work :) "
   ]
  },
  {
   "cell_type": "markdown",
   "id": "5735a4d4-8be8-433a-a351-70eb8002e632",
   "metadata": {
    "id": "5735a4d4-8be8-433a-a351-70eb8002e632"
   },
   "source": [
    "**Q3.** Open the \"tidy_data.pdf\" document in the repo, which is a paper called Tidy Data by Hadley Wickham.\n",
    "\n",
    "  1. Read the abstract. What is this paper about?\n",
    "  2. Read the introduction. What is the \"tidy data standard\" intended to accomplish?\n",
    "  3. Read the intro to section 2. What does this sentence mean: \"Like families, tidy datasets are all alike but every messy dataset is messy in its own way.\" What does this sentence mean: \"For a given dataset, it’s usually easy to figure out what are observations and what are variables, but it is surprisingly difficult to precisely define variables and observations in general.\"\n",
    "  4. Read Section 2.2. How does Wickham define values, variables, and observations?\n",
    "  5. How is \"Tidy Data\" defined in section 2.3?\n",
    "  6. Read the intro to Section 3 and Section 3.1. What are the 5 most common problems with messy datasets? Why are the data in Table 4 messy? What is \"melting\" a dataset?\n",
    "  7. Why, specifically, is table 11 messy but table 12 tidy and \"molten\"?\n",
    "  8. Read Section 6. What is the \"chicken-and-egg\" problem with focusing on tidy data? What does Wickham hope happens in the future with further work on the subject of data wrangling?"
   ]
  },
  {
   "cell_type": "code",
   "execution_count": null,
   "id": "ed70253e-99d1-41d7-ae15-43946aca387d",
   "metadata": {},
   "outputs": [],
   "source": [
    "# put your code here. "
   ]
  },
  {
   "cell_type": "markdown",
   "id": "649494cd-cfd6-4f80-992a-9994fc19e1d5",
   "metadata": {
    "id": "649494cd-cfd6-4f80-992a-9994fc19e1d5"
   },
   "source": [
    "**Q4.** Many important datasets contain a race variable, typically limited to a handful of values often including Black, White, Asian, Latino, and Indigenous. This question looks at data gathering efforts on this variable by the U.S. Federal government.\n",
    "\n",
    "1. ~~How did the most recent US Census gather data on race?~~\n",
    "2. ~~Why do we gather these data? What role do these kinds of data play in politics and society? Why does data quality matter?~~\n",
    "3. ~~Please provide a constructive criticism of how the Census was conducted: What was done well?~~ ~~What do you think was missing?~~ ~~How should future large scale surveys be adjusted to best reflect the diversity of the population?~~ ~~Could some of the Census' good practices be adopted more widely to gather richer and more useful data?~~\n",
    "4. ~~How did the Census gather data on sex and gender? Please provide a similar constructive criticism of their practices.~~\n",
    "5. ~~When it comes to cleaning data, what concerns do you have about protected characteristics like sex, gender, sexual identity, or race?~~ ~~What challenges can you imagine arising when there are missing values?~~ ~~What good or bad practices might people adopt, and why?~~\n",
    "6. ~~Suppose someone invented an algorithm to impute values for protected characteristics like race, gender, sex, or sexuality. What kinds of concerns would you have?~~"
   ]
  },
  {
   "cell_type": "code",
   "execution_count": null,
   "id": "19acde2f-66c8-417a-a46e-08bb49e61cea",
   "metadata": {},
   "outputs": [],
   "source": [
    "# below my answers are written in markdown format!\n",
    "# for greater readability than code comments! \n",
    "\n",
    "# resources: 'how is data collected?'\n",
    "    # https://www.census.gov/programs-surveys/gov-finances/technical-documentation/methodology/how-the-data-are-collected.html\n"
   ]
  },
  {
   "cell_type": "markdown",
   "id": "adbfbc1d-cbae-4cae-8546-9d3106da9845",
   "metadata": {},
   "source": [
    "1. According to the Census Bureau, race data is collected based off of self-identification. (https://www.census.gov/topics/population/race.html)\n",
    "2. Census data is collected for many reasons: redistricting (drawing electoral districts based on where groups of people live so that they may be represented), to know how to better fund communities, to determine the number of Representatives that should serve each state, and uh...to inform...\"business decisions\"? Accurate census data seems to be necessary for America's democracy to function as intended; the drawing of districts allows people of minority perspectives to have their opinions represented, and that cannot be done properly without accurate (\"quality\") knowledge of where, or how many, people of minority groups exist. (https://www.census.gov/programs-surveys/decennial-census/about/why.html)\n",
    "3. I appreciate the clarifying notes on some of the questions: vague race definitions such as 'black', 'white', and 'Asian' are unclear, and I know that different cultures will divide race lines differently (an international student once told me they thought I was Turkmen - who they considered white). However, because the Census is conducted as a survey, its insights will always be subject to survey bias: one may be motivated to conceal information out of worry or desire for privacy (their answers are confidential, but you never know what may happen), or their definition of a given demographic category may differ from another person's. In this case, survey bias is unavoidable, as it feels unethical (and also not terribly cautious) to collect a person's data on their behalf. I'm also inclined to point out that people from Southwest Asia and North Africa don't get a box on the census; they are classed as white, even though Americans in general racialize them (*especially* if they are Muslim). Any future large-scale surveys pertaining to race must reflect how people of a given heritage are treated or racialised in practise; 'race' is not a category grounded in biology, anyways. The Census can and should continue to add clarifying notes to its questions, too (I struggle with understanding what surveys ask sometimes). \n",
    "4. The Census collected data about sex demographics with a survey question that asked participants to tick the box corresponding to their sex. The question forces a person to choose between male and female, which does not accomodate for intersex people. Additionally, a person's sex assigned at birth might not give the best perspective on how they are actually treated; transphobia, in addition to misogyny that some trans women experience, are not accounted for in this part of the Census. I also saw that the Census did not ask any questions on gender identity (which is different than sex), which is also ridiculously important to account for when thinking of how to combat discrimination against gender minorities. \n",
    "5. **a)** Sensitive information is sensitive information - if I'm a data scientist looking at census data, I'm looking at the names *and* all the demographic characteristics of *several* people, even information that they may keep secret in person. What if Mona depends on passing as white to avoid discrimination in the workplace? What if Derek passes fully as male and hides his transness, but has 'female' listed as his sex? Even if our data scientist the world's most bigoted person, they cannot realistically do anything to the individuals, but it still feels invasive and disrespectful to view so much deeply personal information. **b)** Missing values about protected characteristics may be difficult to deal with because of how important census data actually *is* - as stated in question 2's answer, American democracy necessitates that we know where, or how many, people of different demographic groups live. When coming across NaNs, we might feel inclined to predict what values they may correspond to, and we risk being wrong - but if we decide to leave our missing values, we might neglect the needs of sigificant groups of people. **c)** As someone who is not qualified to clean census data, I can't say what practises are *good* when it comes to dealing with missing values. However, I know enough about data science and politics to understand what practises might be *bad:* one poorly-equipped data scientist might manually input information about race or gender or sexuality based on assumptions from other pieces of demographic information (though you'd have to be insane to willingly do this for the whole census); another may simply delete any rows with NaNs (which would deprive us of plenty of important information!). \n",
    "6. Algorithms are often ridiculously bad at predicting information because they are so horribly subject to bias that they have no way of seeing through. If our data on a given demographic is incomplete or biased, and we use an algorithm to make guesses about certain characteristics, then the new information generated would reflect the bias in the data more than it would reflect any truth about the population. Also, if we have data generated by an algorithm, and we feed it back into the algorithm, our algorithm will likely make increasingly inaccurate predictions, as it's fed with fake information.  "
   ]
  }
 ],
 "metadata": {
  "colab": {
   "provenance": []
  },
  "kernelspec": {
   "display_name": "Python 3 (ipykernel)",
   "language": "python",
   "name": "python3"
  },
  "language_info": {
   "codemirror_mode": {
    "name": "ipython",
    "version": 3
   },
   "file_extension": ".py",
   "mimetype": "text/x-python",
   "name": "python",
   "nbconvert_exporter": "python",
   "pygments_lexer": "ipython3",
   "version": "3.12.7"
  }
 },
 "nbformat": 4,
 "nbformat_minor": 5
}
